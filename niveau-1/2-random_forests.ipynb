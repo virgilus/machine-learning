{
 "cells": [
  {
   "cell_type": "markdown",
   "id": "a698ab94-a0c7-4ce1-9e39-dbe5748c95f9",
   "metadata": {},
   "source": [
    "# Random Forests"
   ]
  },
  {
   "cell_type": "markdown",
   "id": "dcc913ac-b8a8-4600-8b1a-603080a1f6e0",
   "metadata": {},
   "source": [
    "Les arbres de décision nous demandent de prendre une décision difficile : un arbre profond, avec de nombreuses feuilles, sera trop précis car chaque prédiction n'aura été calculée que sur un nombre restreint de maisons. Mais un arbre peu profond avec peu de feuilles sera peu performant car il ne parvient pas à saisir l'importance des différentes caractéristiques de notre jeu de données.\n",
    "\n",
    "Même les techniques de modélisation les plus sophistiquées d'aujourd'hui sont confrontées à cette tension entre sous-adaptation et sur-adaptation. Cependant, de nombreux modèles présentent des idées astucieuses qui peuvent conduire à de meilleures performances, c'est le cas de l'algorithme de *random forest* (forêt aléatoire).\n",
    "\n",
    "Une *random forest* génère de nombreux arbres de décision différents et effectue une prédiction en faisant la moyenne des prédictions de chaque arbre. Ses prédictions sont généralement bien meilleures que celles d'un arbre de décision unique et les paramètres par défaut sont souvent suffisant.\n",
    "\n",
    "Son désavantage : l'algorithme agit comme une boîte noire, et il est difficile d'expliquer ses choix.\n",
    "\n",
    "Cet algorithme revêt différentes formes. Il peut être utilisé pour prédire une valeur discrète (*regressor*) ou bien prédire une classe (*classifier*)."
   ]
  },
  {
   "cell_type": "code",
   "execution_count": null,
   "id": "448dea46-488d-4cfd-8638-2b36477a3b5d",
   "metadata": {
    "tags": []
   },
   "outputs": [],
   "source": [
    "import pandas as pd\n",
    "import numpy as np\n",
    "\n",
    "from sklearn.model_selection import train_test_split\n",
    "from sklearn.metrics import mean_absolute_error\n",
    "\n",
    "from pprint import pprint\n",
    "\n",
    "df = pd.read_csv(\"data/iowa_housing.csv\")"
   ]
  },
  {
   "cell_type": "code",
   "execution_count": null,
   "id": "bc902fe3-e700-4a99-a881-4e0fdd7a1bb2",
   "metadata": {
    "tags": []
   },
   "outputs": [],
   "source": [
    "y = df['saleprice']\n",
    "\n",
    "feature_names = ['lotarea',\n",
    "                 'yearbuilt',\n",
    "                 '1stflrsf',\n",
    "                 '2ndflrsf',\n",
    "                 'fullbath',\n",
    "                 'bedroomabvgr',\n",
    "                 'totrmsabvgrd',]\n",
    "\n",
    "X = df[feature_names]\n",
    "\n",
    "X_train, X_test, y_train, y_test = train_test_split(X, y, random_state=42)"
   ]
  },
  {
   "cell_type": "code",
   "execution_count": null,
   "id": "875a5a5b-9f0b-43fe-a5c9-86abd8075ce1",
   "metadata": {
    "tags": []
   },
   "outputs": [],
   "source": [
    "from sklearn.ensemble import RandomForestRegressor\n",
    "\n",
    "iowa_rf_model = RandomForestRegressor(random_state=42)\n",
    "iowa_rf_model.fit(X_train, y_train)\n",
    "y_pred = iowa_rf_model.predict(X_test)\n",
    "mean_absolute_error(y_test, y_pred)"
   ]
  },
  {
   "cell_type": "code",
   "execution_count": null,
   "id": "bb178ded-eec3-46cc-9fc9-34cc44ce016b",
   "metadata": {
    "tags": []
   },
   "outputs": [],
   "source": [
    "# le R², coefficient de détermination.\n",
    "# proportion de la variance d’une variable dépendante (y) \n",
    "# qui s’explique par une ou plusieurs variables indépendantes (X) dans le modèle de régression\n",
    "\n",
    "iowa_rf_model.score(X_test, y_test)"
   ]
  },
  {
   "cell_type": "markdown",
   "id": "07376720-8d73-4af2-811e-2842e4e75aac",
   "metadata": {},
   "source": [
    "## Optimisation des paramètres"
   ]
  },
  {
   "cell_type": "code",
   "execution_count": null,
   "id": "3eccbd8e-27c6-444c-9eff-9b688f08f750",
   "metadata": {
    "tags": []
   },
   "outputs": [],
   "source": [
    "# Affichons les paramètres de notre modèle\n",
    "\n",
    "iowa_rf_model.get_params()"
   ]
  },
  {
   "cell_type": "markdown",
   "id": "d92865bf-426f-4271-b744-367489af0021",
   "metadata": {},
   "source": [
    "### Random Search"
   ]
  },
  {
   "cell_type": "code",
   "execution_count": null,
   "id": "f6901432-452e-4c5c-9de0-fd34c374c717",
   "metadata": {
    "tags": []
   },
   "outputs": [],
   "source": [
    "from sklearn.model_selection import RandomizedSearchCV\n",
    "\n",
    "# Number of trees in random forest\n",
    "n_estimators = [int(x) for x in np.linspace(start=200, stop=2000, num=10)]\n",
    "# Number of features to consider at every split\n",
    "max_features = [1, 'sqrt']\n",
    "# Maximum number of levels in tree\n",
    "max_depth = [int(x) for x in np.linspace(10, 110, num=11)]#.append(None)\n",
    "# Minimum number of samples required to split a node\n",
    "min_samples_split = [2, 5, 10]\n",
    "# Minimum number of samples required at each leaf node\n",
    "min_samples_leaf = [1, 2, 4]\n",
    "# Method of selecting samples for training each tree\n",
    "bootstrap = [True, False]\n",
    "# Create the random grid\n",
    "random_grid = {'n_estimators': n_estimators,\n",
    "               'max_features': max_features,\n",
    "               'max_depth': max_depth,\n",
    "               'min_samples_split': min_samples_split,\n",
    "               'min_samples_leaf': min_samples_leaf,\n",
    "               'bootstrap': bootstrap,}\n",
    "\n",
    "pprint(random_grid)"
   ]
  },
  {
   "cell_type": "code",
   "execution_count": null,
   "id": "e130a0a6-b886-4a15-8eb0-9836654c70c7",
   "metadata": {
    "tags": []
   },
   "outputs": [],
   "source": [
    "# On calcule les différentes possibilités.\n",
    "possibilities = 1\n",
    "for param_list in random_grid.values():\n",
    "    possibilities *= len(param_list)\n",
    "possibilities"
   ]
  },
  {
   "cell_type": "code",
   "execution_count": null,
   "id": "41859961-ed0c-4f99-90d6-291ee0891d53",
   "metadata": {
    "tags": []
   },
   "outputs": [],
   "source": [
    "# Random search of parameters, using 3 fold cross validation, \n",
    "# search across 100 different combinations, and use all available cores\n",
    "rf_random = RandomizedSearchCV(estimator = iowa_rf_model,\n",
    "                               param_distributions = random_grid,\n",
    "                               n_iter=10,\n",
    "                               cv=3,\n",
    "                               verbose=2,\n",
    "                               random_state=42,\n",
    "                               n_jobs=-1)\n",
    "# Fit the random search model\n",
    "rf_random.fit(X_train, y_train)"
   ]
  },
  {
   "cell_type": "code",
   "execution_count": null,
   "id": "f22994aa-a3d5-41f9-a811-e585319bdb4c",
   "metadata": {
    "tags": []
   },
   "outputs": [],
   "source": [
    "# La meilleure des random forest\n",
    "\n",
    "rf_random.best_score_"
   ]
  },
  {
   "cell_type": "code",
   "execution_count": null,
   "id": "ec9a799f-b19d-49ce-8dbb-81ed37ad239c",
   "metadata": {
    "tags": []
   },
   "outputs": [],
   "source": [
    "# Ses paramètres\n",
    "\n",
    "rf_random.best_params_"
   ]
  },
  {
   "cell_type": "code",
   "execution_count": null,
   "id": "b0e38bbc-4404-4b7a-9ef1-d377390562f4",
   "metadata": {
    "tags": []
   },
   "outputs": [],
   "source": [
    "# Son score\n",
    "\n",
    "rf_random.best_estimator_.score(X_test, y_test)"
   ]
  },
  {
   "cell_type": "markdown",
   "id": "edb6bb25-c909-46a8-9a6f-6934021c5d5f",
   "metadata": {},
   "source": [
    "### *Fine Tuning*"
   ]
  },
  {
   "cell_type": "code",
   "execution_count": null,
   "id": "207e3540-34b2-4a1d-bf26-fc324c32b9c4",
   "metadata": {
    "tags": []
   },
   "outputs": [],
   "source": [
    "# Pour rappel voici les meilleurs paramètres :\n",
    "\n",
    "{'n_estimators': 1400,\n",
    " 'min_samples_split': 5,\n",
    " 'min_samples_leaf': 1,\n",
    " 'max_features': 'sqrt',\n",
    " 'max_depth': 30,\n",
    " 'bootstrap': True}"
   ]
  },
  {
   "cell_type": "code",
   "execution_count": null,
   "id": "ac685fff-cac4-4866-99f5-81bc3e796835",
   "metadata": {
    "tags": []
   },
   "outputs": [],
   "source": [
    "from sklearn.model_selection import GridSearchCV\n",
    "\n",
    "# Create the parameter grid based on the results of random search \n",
    "param_grid = {\n",
    "    'bootstrap': [True],\n",
    "    'max_depth': [20, 30, 40],\n",
    "    'max_features': ['sqrt'],\n",
    "    'min_samples_leaf': [1, 2, 3],\n",
    "    'min_samples_split': [3, 5, 7],\n",
    "    'n_estimators': [1200, 1400, 1600]\n",
    "}\n",
    "\n",
    "# Instantiate the grid search model\n",
    "grid_search_rf = GridSearchCV(estimator=iowa_rf_model,\n",
    "                              param_grid=param_grid, \n",
    "                              cv=2,\n",
    "                              n_jobs=-1,\n",
    "                              verbose=1)"
   ]
  },
  {
   "cell_type": "code",
   "execution_count": null,
   "id": "d4d4d117-7717-4f35-9182-a727a7ccaa7e",
   "metadata": {
    "tags": []
   },
   "outputs": [],
   "source": [
    "grid_search_rf.fit(X_train, y_train)"
   ]
  },
  {
   "cell_type": "code",
   "execution_count": null,
   "id": "c8b31b73-1e7b-4049-9d72-506e66562935",
   "metadata": {
    "tags": []
   },
   "outputs": [],
   "source": [
    "grid_search_rf.best_params_"
   ]
  },
  {
   "cell_type": "code",
   "execution_count": null,
   "id": "61d0fbc6-93bd-4d3d-8e90-39fccdab0507",
   "metadata": {
    "tags": []
   },
   "outputs": [],
   "source": [
    "grid_search_rf.score(X_test, y_test)"
   ]
  },
  {
   "cell_type": "code",
   "execution_count": null,
   "id": "d3f9f7a3-3bec-40f7-92c5-80b875f6d398",
   "metadata": {
    "tags": []
   },
   "outputs": [],
   "source": [
    "grid_search_rf.best_estimator_.score(X_test, y_test)"
   ]
  },
  {
   "cell_type": "markdown",
   "id": "50860262-446a-48a7-b9f0-966d39d71dbe",
   "metadata": {},
   "source": [
    "### Modèle final"
   ]
  },
  {
   "cell_type": "code",
   "execution_count": null,
   "id": "e5790e3e-366b-41e9-9335-e95a4ebedbf3",
   "metadata": {},
   "outputs": [],
   "source": [
    "final_rf = grid_search_rf.best_estimator_\n",
    "\n",
    "from joblib import dump, load\n",
    "dump(final_rf, 'best_iowa_rf_model.joblib') "
   ]
  }
 ],
 "metadata": {
  "kernelspec": {
   "display_name": "Python 3 (ipykernel)",
   "language": "python",
   "name": "python3"
  },
  "language_info": {
   "codemirror_mode": {
    "name": "ipython",
    "version": 3
   },
   "file_extension": ".py",
   "mimetype": "text/x-python",
   "name": "python",
   "nbconvert_exporter": "python",
   "pygments_lexer": "ipython3",
   "version": "3.10.9"
  }
 },
 "nbformat": 4,
 "nbformat_minor": 5
}
