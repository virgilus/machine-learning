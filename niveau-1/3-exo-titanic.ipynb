{
 "cells": [
  {
   "cell_type": "markdown",
   "id": "fd6651ed-4b7f-46dc-b8aa-dda0f951acde",
   "metadata": {},
   "source": [
    "# Titanic"
   ]
  },
  {
   "cell_type": "markdown",
   "id": "8694658c-f984-4daa-b095-160d0f45ce7d",
   "metadata": {},
   "source": [
    "### Jeu de données\n",
    "\n",
    "Le *dataset* du Titanic est un grand classique du machine Learning, celui-ci consiste en une liste de passagers présents sur le navire durant son unique trajet vers les Etats-Unis. Un certain nombre de caractéristiques décrivent les passagers présents à bord, ainsi que son statut final : a-t-il survécu au naufrage ?\n",
    "\n",
    "Sur les 2200 personnes présentes à bord du bateau au moment du naufrage, environ 1500 périrent. Notre jeu de données n'est pas exhaustif, mais comporte cependant assez d'entrées pour pouvoir appliquer des méthodes de *machine learning* dessus.\n",
    "\n",
    "### Objectif\n",
    "\n",
    "Le but de cet exercice est de créer un modèle permettant de prédire la survie d'un passager en fonction de ses différentes caractéristiques connues."
   ]
  },
  {
   "cell_type": "markdown",
   "id": "2f2832a1-8466-4e41-9de5-200e3efccdff",
   "metadata": {
    "tags": [
     "fr"
    ]
   },
   "source": [
    "### Importation des librairies\n",
    "\n",
    "Importer dans la cellule suivante toutes les librairies que vous utiliserez. Vous devrez y retourner de temps en temps pour ajouter des librairies au cours de cet exercice. N'oubliez pas de la réexecuter à chaque fois pour importer correctement les librairies.\n",
    "\n",
    "Si la librairie que vous voulez n'est pas installé sur votre poste, lisez la partie \"installation\" de sa documentation en ligne. Dans l'immense majorité des cas il suffit d'ouvrir une fenêtre de terminal (*anaconda prompt* pour windows, un terminal classique pour mac et linux), vérifiez que vous êtes dans le bon environnement virtuel si vous en utilisez un puis tapez :\n",
    "\n",
    "``pip install LE_NOM_DE_VOTRE_LIBRAIRIE``\n",
    "\n",
    "Pour commencer :\n",
    "\n",
    "**>>>** Importer la librairie \"pandas\" en utilisant l'alias \"pd\"\n",
    "\n",
    "**>>>** Importer la librairie \"numpy\" en utilisant l'alias \"np\""
   ]
  },
  {
   "cell_type": "code",
   "execution_count": null,
   "id": "459db07c-0efd-4fa7-a8ba-5c0190bec56f",
   "metadata": {},
   "outputs": [],
   "source": [
    "# code here!\n"
   ]
  },
  {
   "cell_type": "markdown",
   "id": "e2996d79-5a39-4dcd-8fd3-f2d43f4587a0",
   "metadata": {},
   "source": [
    "### Lecture et affichage du dataframe\n",
    "\n",
    "**>>>** A l'aide de Pandas et de la fonction ``pd.read_csv()``, importez et stockez le jeu de données dans un *dataframe* nommé \"df\".\n",
    "\n",
    "**>>>** utilisez la fonction ``.head()`` pour afficher les 5 premières lignes."
   ]
  },
  {
   "cell_type": "code",
   "execution_count": null,
   "id": "8c4034ce-67ae-4eaa-820c-56bdea690489",
   "metadata": {},
   "outputs": [],
   "source": [
    "# code here!\n"
   ]
  },
  {
   "cell_type": "markdown",
   "id": "09e21526-f297-46e4-9f93-03d569e1bfc5",
   "metadata": {},
   "source": [
    "### Colonnes\n",
    "\n",
    "**>>>** Affichez les colonnes du dataframe avec la propriété ``.columns``"
   ]
  },
  {
   "cell_type": "code",
   "execution_count": null,
   "id": "25c7e4b5-1fbd-490a-bcb6-3ee359b11b47",
   "metadata": {},
   "outputs": [],
   "source": [
    "# code here!\n"
   ]
  },
  {
   "cell_type": "markdown",
   "id": "ba79e2da-5431-4dcd-8e7e-bce265f3660e",
   "metadata": {},
   "source": [
    "### Explication des différentes colonnes.\n",
    "\n",
    "Lorsqu'on étudie un jeu de données, il est important de toujours se référer à la documentation ou de demander des explications à la personne ayant généré ce jeu de données. Voici ici les informations qui nous intéressent :\n",
    "\n",
    "- **'PassengerId'** : L'ID des passagers. Celui-ci est égal à notre index.\n",
    "- **'Survived'** : 1 si la personne a survécu, 0 si elle n'a pas survécu.\n",
    "- **'Pclass'** : Classe du passager.\n",
    "    - 1 : Première classe (classe aisée).\n",
    "    - 2 : Seconde classe (classe moyenne).\n",
    "    - 3 : Troisième classe (classe populaire).\n",
    " - **'Name'** : Le nom du passager.\n",
    " - **'Sex'** : Le genre du passager.\n",
    " - **'Age'** : L'âge du passager. Si l'âge est estimé, celui-ci peut être sous forme de décimaux.\n",
    " - **'SibSp'** : *Siblings and Spouses*. Le nombre de frères, soeurs, demi-frères, demi-soeurs, époux ou épouse présents avec eux sur le bateau.\n",
    " - **'Parch'** : *Parents and Children*. Le nombre de père, mère, fils, fille, beau-fils, belle-fille présents avec eux sur le bateau.\n",
    " - **'Ticket'** : Le numéro du ticket de la personne.\n",
    " - **'Fare'** : Le coût du ticket. \n",
    " - **'Cabin'** : Le numéro de la cabine.\n",
    " - **'Embarked'** : Le port d'embarquement :\n",
    "     - C : Cherbourg\n",
    "     - Q : Queenstown\n",
    "     - S : Southampton"
   ]
  },
  {
   "cell_type": "markdown",
   "id": "ee8d6ea4-27e2-4a7f-95b4-0d53fa47d297",
   "metadata": {},
   "source": [
    "# Exploration "
   ]
  },
  {
   "cell_type": "markdown",
   "id": "5758230e-e134-4712-b6ea-d33e46c28626",
   "metadata": {},
   "source": [
    "**>>>** Appliquez un ``.describe()`` sur le dataframe. Par défaut, cette méthode s'applique uniquement sur les variables numériques. Si vous préférez que le résultat soit transposé, utilisez la propriété ``.T`` sur le df retourné par ``.describe()``."
   ]
  },
  {
   "cell_type": "code",
   "execution_count": null,
   "id": "5de16b44-b75b-4602-8d6b-904b46106df5",
   "metadata": {},
   "outputs": [],
   "source": [
    "# Code here!\n"
   ]
  },
  {
   "cell_type": "markdown",
   "id": "277774ce-edad-47e8-ae5c-df4682ef2df4",
   "metadata": {},
   "source": [
    "**>>>** Affichez les statistiques basiques sur les variables non numériques. Pour cela utilisez le paramètre \"exclude\" de la méthode ``.describe`` en lui donnant comme argument ``np.number``."
   ]
  },
  {
   "cell_type": "code",
   "execution_count": null,
   "id": "5dc91422-2663-4457-aafb-4f2a734604bb",
   "metadata": {},
   "outputs": [],
   "source": [
    "# Code here!\n"
   ]
  },
  {
   "cell_type": "markdown",
   "id": "8c9427aa-53f5-45e5-81a6-84f21445874b",
   "metadata": {},
   "source": [
    "### Suppression des colonnes inutiles\n",
    "\n",
    "Utilisez la méthode ``.drop()`` pour effacer la colonne 'PassengerId' puisque celle-ci n'est qu'une réplique de l'index."
   ]
  },
  {
   "cell_type": "code",
   "execution_count": null,
   "id": "6471cfb8-0513-46da-b0a4-6b3fd0baa98a",
   "metadata": {},
   "outputs": [],
   "source": [
    "# Code here!\n"
   ]
  },
  {
   "cell_type": "markdown",
   "id": "1cf774d0-3aac-405d-8910-cff62428cbb3",
   "metadata": {},
   "source": [
    "### Statistiques et graphiques\n",
    "\n",
    "Pour mieux comprendre les données, explorons chaque colonne à l'aide d'outils statistiques et de visualisations.\n",
    "\n",
    "**>>>** Retourner dans la première cellule et importer la librairie seaborn sous l'alias \"sns\" et la librairie matplotlib.pyplot sous l'alias \"plt\"."
   ]
  },
  {
   "cell_type": "markdown",
   "id": "f27242bc-764c-4431-abfc-6d5fc60749d5",
   "metadata": {},
   "source": [
    "### 'Survived'\n",
    "\n",
    "**>>>** Examinez la distribution de la colonne 'Survived' à l'aide de la méthode ``.value_counts``. Vous pouvez éventuellement passer le paramètre ``normalize=True`` pour avoir une meilleure estimation de la répartition."
   ]
  },
  {
   "cell_type": "code",
   "execution_count": null,
   "id": "ae246008-5a3e-4635-ba80-4e4caad1ea9c",
   "metadata": {
    "tags": []
   },
   "outputs": [],
   "source": [
    "# Code here!\n"
   ]
  },
  {
   "cell_type": "markdown",
   "id": "d7b756be-aae8-455c-b6b8-5ef0cc90d38f",
   "metadata": {},
   "source": [
    "**>>>** Affichez les résultats sous forme de graphique en utilisant sur ce résultat la méthode ``.plot.bar()``."
   ]
  },
  {
   "cell_type": "code",
   "execution_count": null,
   "id": "7c709b97-f3be-44c6-84e4-14681c96b5a7",
   "metadata": {},
   "outputs": [],
   "source": [
    "# Code here!\n"
   ]
  },
  {
   "cell_type": "markdown",
   "id": "5ee88f2b-0d23-4566-a9ea-135739b82b57",
   "metadata": {},
   "source": [
    "**>>>** Affichez le même graphique mais à l'aide de la fonction ``sns.countplot()`` en donnant comme argument au paramètre \"x\" la série ``df['survived']``."
   ]
  },
  {
   "cell_type": "code",
   "execution_count": null,
   "id": "008294ad-2efa-4f01-aab7-5e3c012a8d3a",
   "metadata": {},
   "outputs": [],
   "source": []
  },
  {
   "cell_type": "markdown",
   "id": "89b6732f-669e-40ce-96f9-6abc022415d4",
   "metadata": {},
   "source": [
    "**>>>** Examinons désormais comment la classe des voyageurs influe sur le taux de survie. Reprenez la même fonction que précédemment mais passez en \"x\" cette fois la colonne df['Pclass'] puis ajoutez un second paramètre nommé \"hue\", et donnez-lui comme argument df['Survived']."
   ]
  },
  {
   "cell_type": "code",
   "execution_count": null,
   "id": "232b4c42-2d04-4a52-9df3-05f2dca60605",
   "metadata": {},
   "outputs": [],
   "source": [
    "# Code here!\n"
   ]
  },
  {
   "cell_type": "markdown",
   "id": "28963ed4-b25e-4e38-ba28-86d94a5e7454",
   "metadata": {},
   "source": [
    "### Noms des passagers\n",
    "\n",
    "Le titre de civilité (madame, mademoiselle, monsieur...) peut nous donner des informations sur les passagers. Pour l'instant, ceux-ci sont contenus dans leur nom.\n",
    "\n",
    "**>>>** Créez une nouvelle colonne nommée \"NameTitle\" ne contenant que les titres de civilité. Il y a différentes manières de faire ceci :\n",
    "- Utilisez deux fois la fonction ``str.split()`` avec le paramètre ``expand=True`` en récupérant la bonne série nouvellement créée à chaque fois.\n",
    "- Utilisez deux fois la fonction ``.map()`` ainsi que des fonctions lambda pour appliquer des ``.split()`` successifs sur la série en récupérant la valeur qui nous intéresse grâce à l'index de la liste créée.\n",
    "\n",
    "PS : le terme 'master\" était utilisé à l'époque pour de jeunes enfants."
   ]
  },
  {
   "cell_type": "code",
   "execution_count": null,
   "id": "02e1fd84-c584-4402-87a0-656b3a4b6157",
   "metadata": {},
   "outputs": [],
   "source": [
    "# Code here!\n"
   ]
  },
  {
   "cell_type": "markdown",
   "id": "0eb8102c-4618-4150-bee4-0a7088907fc3",
   "metadata": {},
   "source": [
    "**>>>** Faites un value_counts() sur la Series \"NameTitle\""
   ]
  },
  {
   "cell_type": "code",
   "execution_count": null,
   "id": "ad98c18a-9a8a-431e-a8c5-8209d278552f",
   "metadata": {},
   "outputs": [],
   "source": [
    "# Code here!\n"
   ]
  },
  {
   "cell_type": "markdown",
   "id": "363ae4f7-ed1b-43bb-a45a-ba20dd33e21e",
   "metadata": {},
   "source": [
    "**>>>** Certains titres sont très rares, et d'autres nécessitent d'être attribués à des groupes plus larges. Créez un dictionnaire qui possède en clés les anciens titres et en valeurs le nouveau titre qui lui sera attribué. Faites en sorte que :\n",
    "\n",
    "- Les \"Mlle.\", \"Ms.\" soient rattachés aux \"Miss.\"\n",
    "- Les \"Lady.\", \"Mme.\" et \"the\" soient rattachés aux \"Mrs.\"\n",
    "- Les \"Major.\", \"Col.\", \"Sir\", \"Don.\" et \"Jonkheer.\" soient rattachés aux \"Mr.\"\n",
    "- Inutile d'ajouter les noms qui resteront les mêmes, mais vous pouvez le faire si vous le préférez.\n",
    "\n",
    "*Astuces* :\n",
    "\n",
    "- La méthode ``.replace()`` sera ici le meilleur choix !\n",
    "- Vérifiez ensuite avec un ``.value_counts`` que tout est en ordre."
   ]
  },
  {
   "cell_type": "code",
   "execution_count": null,
   "id": "560a592e-a33e-4408-99a0-0f3063015de9",
   "metadata": {},
   "outputs": [],
   "source": [
    "# Code here!\n"
   ]
  },
  {
   "cell_type": "markdown",
   "id": "bb85a1f4-f8df-4939-907d-dacfcb82e0f7",
   "metadata": {},
   "source": [
    "**>>>** Calculez le taux de survie pour chacun des titres de civilité. Pour ce faire effectuez un *groupby* sur la colonne \"Survived\" en lui demandant de grouper sur la colonne 'NameTitle'. Choisissez ``mean()`` comme méthode d'aggrégation. Vous pouvez aussi ajouter un ``.sort_values(ascending=False)`` pour classer le résultat par ordre décroissant.\n",
    "\n",
    "*Astuces*:\n",
    "\n",
    "- Si vous souhaitez aussi afficher d'autres indicateurs vous pouvez utiliser la méthode ``.agg()`` sur les données groupées en lui donnant une liste de fonction à utiliser en lui passant des strings. Par exemple \"mean\", \"median\", \"count\". Le résultat sera alors un dataframe."
   ]
  },
  {
   "cell_type": "code",
   "execution_count": null,
   "id": "0b73023d-f8aa-4dba-8aff-3f7ae3b238fa",
   "metadata": {},
   "outputs": [],
   "source": [
    "# Code here!\n"
   ]
  },
  {
   "cell_type": "markdown",
   "id": "d391afc4-da8c-4958-892a-aaa2b08a9184",
   "metadata": {},
   "source": [
    "**>>>** Générez ensuite un graphique de type \"bar\" sur cette série nouvellement créée afin de mieux visualiser les données. Utilisez matplot lib ou bien seaborn à votre convenance."
   ]
  },
  {
   "cell_type": "code",
   "execution_count": null,
   "id": "c1cbfd53-739a-4ddf-8fb0-ad4a12433a2a",
   "metadata": {},
   "outputs": [],
   "source": [
    "# Code here!\n"
   ]
  },
  {
   "cell_type": "markdown",
   "id": "6674f429-2317-4fa1-a02c-a17bb30af258",
   "metadata": {},
   "source": [
    "### Sex\n",
    "\n",
    "**>>>** Affichez la proportion d'hommes et de femmes avec un ``.value_counts()``. Vous pouvez normaliser les données pour rendre le résultat plus clair."
   ]
  },
  {
   "cell_type": "code",
   "execution_count": null,
   "id": "9174882b-2ef4-4a3f-b747-43cb99dd8463",
   "metadata": {},
   "outputs": [],
   "source": [
    "# Code here!\n"
   ]
  },
  {
   "cell_type": "markdown",
   "id": "d8cac314-5973-4141-a11a-b0837c02dbed",
   "metadata": {},
   "source": [
    "**>>>** Affichez le taux de survie pour chaque sexe."
   ]
  },
  {
   "cell_type": "code",
   "execution_count": null,
   "id": "5e564118-ba24-4674-80e4-fc35f78b3d4b",
   "metadata": {},
   "outputs": [],
   "source": [
    "# Code here!\n"
   ]
  },
  {
   "cell_type": "markdown",
   "id": "86b9bd25-e083-4507-a049-b6bd1d01c3b3",
   "metadata": {},
   "source": [
    "### Age"
   ]
  },
  {
   "cell_type": "markdown",
   "id": "99606fd9-af21-4634-a846-e7cd3b0cfabe",
   "metadata": {},
   "source": [
    "**>>>** Examinez combien de valeurs sont manquantes dans cette colonne."
   ]
  },
  {
   "cell_type": "code",
   "execution_count": null,
   "id": "e5ef9149-3d8d-431c-8b08-ea11b1b94452",
   "metadata": {},
   "outputs": [],
   "source": [
    "# Code here!\n"
   ]
  },
  {
   "cell_type": "markdown",
   "id": "c0fba982-e380-44f8-aa22-665e0ea2bb59",
   "metadata": {},
   "source": [
    "**>>>** Nous allons compléter artificiellement ces valeurs manquantes. Certes nous pourrions tout simplement leur donner l'âge moyen ou median des passagers. Mais nous connaissons les titres de civilité de tous les passagers, y compris de ces 177 personnes dont nous n'avons pas l'âge.\n",
    "\n",
    "Nous allons donc compléter ces données manquantes par la moyenne d'âge relative à leur titre de civilité.\n",
    "\n",
    "La méthode ``.fillna()`` permet de remplir les valeurs vides d'un df ou d'une série par une valeur de notre choix. Elle peut prendre de multiples arguments et notamment une Series. Comme nous connaissons les titres de tous les passagers nous pouvons appliquer la méthode suivante :\n",
    "\n",
    "- Générez un dictionnaire contenant les 'NameTitles' en clés et l'âge moyen valeur. Vous pouvez le faire en une seule ligne de code avec un dictionnaire compréhensif.\n",
    "- Utilisez ``.map()`` sur la colonne df['NameTitle'] avec ce dictionnaire en argument pour créer une Series qui contient, pour chaque personne, la moyenne d'âge de la catégorie 'NameTitle' à laquelle il appartient. Attention ! Ne modifiez pas la colonne df['NameTitle'] !\n",
    "- Une fois ce résultat atteint, appliquer la méthode ``.fillna()`` sur df['Age'] et passez-lui comme argument la Series nouvellement générée.\n",
    "\n",
    "*Astuces*:\n",
    "- Commencez par afficher la moyenne d'âge pour chaque 'NameTitle'.\n",
    "- Pour générer le dictionnaire,  rappelez-vous que la méthode ``.unique()`` vous générera une liste de toutes les valeurs uniques d'une série.\n",
    "- Calculez la moyenne d'un groupe en sélectionnant les bonnes lignes avec ``.loc``."
   ]
  },
  {
   "cell_type": "code",
   "execution_count": null,
   "id": "c21d7344-80f4-43d5-9b88-a725741e2297",
   "metadata": {},
   "outputs": [],
   "source": [
    "# Code here!\n"
   ]
  },
  {
   "cell_type": "markdown",
   "id": "fe487ecd-cc41-4382-afa1-2c6de80b06cb",
   "metadata": {},
   "source": [
    "**>>>** Utilisez ``pd.qcut`` pour créer une nouvelle variable \"AgeClass\" qui divisera la distribution en 6 parts égales. Examinez également quel est le type de ce nouvel objet créé."
   ]
  },
  {
   "cell_type": "code",
   "execution_count": null,
   "id": "c7515ad3-c443-4013-8a2d-d7bff44927fc",
   "metadata": {},
   "outputs": [],
   "source": [
    "# Code here!\n"
   ]
  },
  {
   "cell_type": "markdown",
   "id": "71976360-b616-4ae2-882b-2b47307d5dfb",
   "metadata": {},
   "source": [
    "**>>>** Calculez le taux de survie pour chacune des classes d'âge."
   ]
  },
  {
   "cell_type": "code",
   "execution_count": null,
   "id": "565dbac8-c17d-4364-9419-fb5c23ba315e",
   "metadata": {},
   "outputs": [],
   "source": [
    "# Code here!"
   ]
  },
  {
   "cell_type": "markdown",
   "id": "4c729789-cf4c-4da3-9837-f1cdb086cc9e",
   "metadata": {},
   "source": [
    "### Embarkment"
   ]
  },
  {
   "cell_type": "code",
   "execution_count": null,
   "id": "5409fb80-a97b-45f9-8671-0fe4e079dbfb",
   "metadata": {},
   "outputs": [],
   "source": [
    "df['Embarked'].value_counts()"
   ]
  },
  {
   "cell_type": "code",
   "execution_count": null,
   "id": "cecabe70-3323-469b-8d8b-f1028ab69c9d",
   "metadata": {},
   "outputs": [],
   "source": [
    "df['Embarked'].isna().sum()"
   ]
  },
  {
   "cell_type": "markdown",
   "id": "900021a4-fbea-43dd-b3c9-f7fc2f16526d",
   "metadata": {},
   "source": [
    "**>>>** Nous avons 2 valeurs vides dans cette colonne. Remplissez-les par la lettre 'S' comme il s'agit de la valeur modale de la distribution."
   ]
  },
  {
   "cell_type": "code",
   "execution_count": null,
   "id": "b2890234-b9f8-4e06-b0b9-c69f5aa615d5",
   "metadata": {},
   "outputs": [],
   "source": [
    "# Code here!\n"
   ]
  },
  {
   "cell_type": "markdown",
   "id": "3c564def-3b95-4e92-bfd6-165ff7bb5fa1",
   "metadata": {},
   "source": [
    "**>>>** Faites un ``sns.countplot`` sur la colonne 'Embarked' en utilisant le paramètre 'hue' pour visualiser l'origine des classes sociales de chaque port."
   ]
  },
  {
   "cell_type": "code",
   "execution_count": null,
   "id": "73868ba9-43a5-49e0-bc6f-802fc2a09130",
   "metadata": {},
   "outputs": [],
   "source": [
    "# Code here!"
   ]
  },
  {
   "cell_type": "markdown",
   "id": "d192a924-1782-429c-86a8-cc5195ff00de",
   "metadata": {},
   "source": [
    "### Cabin\n",
    "\n",
    "La première lettre de chaque cabine peut nous être utile. En effet les passagers qui étaient dans des chambres proches des canots ont peut-être mieux survécu. Et le fait que la plupart des passagers n'ait pas de cabine a aussi pu jouer sur leur taux de survie."
   ]
  },
  {
   "cell_type": "code",
   "execution_count": null,
   "id": "06a7d024-6abd-4fa8-a765-45e22d92c662",
   "metadata": {},
   "outputs": [],
   "source": [
    "df['Cabin'].isna().sum()"
   ]
  },
  {
   "cell_type": "markdown",
   "id": "f933777e-17a6-411f-a828-8b348a932d19",
   "metadata": {},
   "source": [
    "**>>>** Créez une nouvelle colonne nommée \"CabinLetter\" qui contient la première lettre de chaque Cabine. Attention car les valeurs de type `None` sont considérées comme des float, il faut penser à les convertir. Elles deviendront alors des \"n\" minuscules, cela nous convient très bien."
   ]
  },
  {
   "cell_type": "code",
   "execution_count": null,
   "id": "33446e07-2fed-4d19-ac19-0313a6c75988",
   "metadata": {},
   "outputs": [],
   "source": [
    "# Code here!\n"
   ]
  },
  {
   "cell_type": "markdown",
   "id": "33e9488d-390c-4837-9cc7-45d2caf68658",
   "metadata": {},
   "source": [
    "### Ticket\n",
    "\n",
    "A priori les numéros des tickets ne nous sont d'aucune utilité. Pourtant les tickets possédant un numéro long semble être corrélé à un meilleur taux de survie. Testons cette hypothèse. Créez une colonne \"TicketLen\" contenant la longueur des tickets."
   ]
  },
  {
   "cell_type": "code",
   "execution_count": null,
   "id": "7d53710d-6ad4-4813-8eb6-dd048f55ca26",
   "metadata": {},
   "outputs": [],
   "source": [
    "# Code here!\n"
   ]
  },
  {
   "cell_type": "markdown",
   "id": "dcf4714c-e28f-4e9a-9b9f-7f26d3e539b0",
   "metadata": {},
   "source": [
    "**>>>** Utilisez sns.countplot() pour afficher un graphique contenant la longueur des tickets en absisse, le count en ordonnée, et discriminé le tout (*hue*) par la colonne \"survived\"."
   ]
  },
  {
   "cell_type": "code",
   "execution_count": null,
   "id": "f6272ad4-5511-4bdd-a058-916bcbb998bd",
   "metadata": {},
   "outputs": [],
   "source": [
    "# Code here!\n"
   ]
  },
  {
   "cell_type": "markdown",
   "id": "b6ad7e22-5bb0-4b9a-a945-3151ecca120b",
   "metadata": {},
   "source": [
    "### Modelisation\n",
    "\n",
    "Nous allons ici utiliser une random forest. Il nous faut préparer les données et sélectionner nos *features* (X). Commençons par passer nos colonnes catégorielles en \"dummy\"."
   ]
  },
  {
   "cell_type": "code",
   "execution_count": null,
   "id": "18ebfa7f-2970-4369-894e-9ce7106834ee",
   "metadata": {
    "tags": []
   },
   "outputs": [],
   "source": [
    "df.columns"
   ]
  },
  {
   "cell_type": "code",
   "execution_count": null,
   "id": "42d6726e-9085-4082-9fce-623699caf9fd",
   "metadata": {
    "tags": []
   },
   "outputs": [],
   "source": [
    "df.dtypes"
   ]
  },
  {
   "cell_type": "markdown",
   "id": "ae07266f-1df7-4bf2-a3e5-c77caf5f9412",
   "metadata": {},
   "source": [
    "**>>>** Créez deux listes :\n",
    "    \n",
    "- Une première liste nommée \"cat_cols\" qui contiendra les noms de toutes colonnes catégorielles.\n",
    "- Une deuxième liste nommée \"num_cols\" qui contiendra toutes les colonnes numériques."
   ]
  },
  {
   "cell_type": "code",
   "execution_count": null,
   "id": "d93468b8-aa4a-43d7-b9c3-d7aadbeb7574",
   "metadata": {
    "tags": []
   },
   "outputs": [],
   "source": [
    "# Code here!\n"
   ]
  },
  {
   "cell_type": "markdown",
   "id": "f0825b21-34b9-44e4-bd58-d7cc0a2942a0",
   "metadata": {},
   "source": [
    "**>>>** Transformez désormais toutes les colonnes catégorielles en *dummy* colonnes grâce à la fonction ``pd.get_dummies()``. Lorsque cela est fait créer un nouveau dataframe qui concatènera le df contenant les colonnes numériques et le df contenant les colonnes catégorielles \"dummifiées\" à l'aide de la fonction ``pd.concat``. Stockez ce nouveau dataframe dans une variable X. Vérifiez ensuite les *dtypes* de X."
   ]
  },
  {
   "cell_type": "code",
   "execution_count": null,
   "id": "80ff3b14-7a64-4564-b72e-fbafb32c9746",
   "metadata": {
    "tags": []
   },
   "outputs": [],
   "source": [
    "# code here!\n"
   ]
  },
  {
   "cell_type": "markdown",
   "id": "6acca571-95a1-46be-93c1-d872a42b2754",
   "metadata": {},
   "source": [
    "**>>>** Créez une variable nommée \"y\" qui contiendra la colonne 'Survived' (la valeur à prédire)."
   ]
  },
  {
   "cell_type": "code",
   "execution_count": null,
   "id": "73f7e0e7-6bbe-4a9c-9f04-f1c5b0ee7458",
   "metadata": {
    "tags": []
   },
   "outputs": [],
   "source": [
    "# code here!\n"
   ]
  },
  {
   "cell_type": "markdown",
   "id": "faff4e71-7665-4e02-9dba-d646603ce5eb",
   "metadata": {},
   "source": [
    "**>>>** Utilisez la fonction ``train_test_split()`` pour créer vos variables X_train, X_test, y_train, y_test. Donnez 42 au paramètre random_state."
   ]
  },
  {
   "cell_type": "code",
   "execution_count": null,
   "id": "74d53d82-e866-48a3-b328-1b6b49ea6308",
   "metadata": {
    "tags": []
   },
   "outputs": [],
   "source": [
    "from sklearn.model_selection import train_test_split\n",
    "# Code here!\n"
   ]
  },
  {
   "cell_type": "markdown",
   "id": "cf30ea6a-0816-47e3-b749-e6d644af004a",
   "metadata": {},
   "source": [
    "## RandomForestClassifier"
   ]
  },
  {
   "cell_type": "code",
   "execution_count": null,
   "id": "e3d18fbb-2f9d-4bc9-90fc-52e097bffdc3",
   "metadata": {
    "tags": []
   },
   "outputs": [],
   "source": [
    "from sklearn.ensemble import RandomForestClassifier\n",
    "from sklearn.metrics import accuracy_score, confusion_matrix, classification_report, ConfusionMatrixDisplay"
   ]
  },
  {
   "cell_type": "markdown",
   "id": "96049567-ff2e-4366-8e2b-a695debb39c4",
   "metadata": {},
   "source": [
    "**>>>** Dans la prochaine cellule écrivez quatre lignes de code :\n",
    "- Déclarer un variable \"rf\" (pour *random forest*) qui contiendra le modèle RandomForestClassifier(). Utilisez 42 comme valeur pour le paramètre \"random_state\".\n",
    "- Ajustez (*fittez*) le modèle sur votre jeu d'entraînement.\n",
    "- Stockez les prédictions faites sur votre X_test dans une variable nommée \"y_pred\".\n",
    "- Calculez le score de précision avec la fonction accuracy_score() en lui donnant y_test et y_pred comme argument. "
   ]
  },
  {
   "cell_type": "code",
   "execution_count": null,
   "id": "db33e874-f798-4d23-b4de-75e23fec29ff",
   "metadata": {
    "tags": []
   },
   "outputs": [],
   "source": [
    "# Code here!\n"
   ]
  },
  {
   "cell_type": "markdown",
   "id": "adb95c4c-9d8f-4060-8f2c-ceebb85bfe44",
   "metadata": {},
   "source": [
    "**>>>** Affichez la propriété 'feature_importances_' du modèle rf."
   ]
  },
  {
   "cell_type": "code",
   "execution_count": null,
   "id": "e9b810aa-71a1-4aac-a194-5f490eb0b6e1",
   "metadata": {
    "tags": []
   },
   "outputs": [],
   "source": [
    "# Code here!\n"
   ]
  },
  {
   "cell_type": "markdown",
   "id": "a8ec1179-dcca-4ac1-a3ff-6d628e8a6583",
   "metadata": {},
   "source": [
    "**>>>** Nous voulons visualiser chaque variable ainsi que son importance dans le résultat final de notre modèle.\n",
    "\n",
    "Pour cela créez un nouveau DataFrame (inutile de le stocker dans une variable) à l'aide de la fonction ``pd.DataFrame``. Donnez-lui comme argument un objet ``zip`` de X.columns et de rf.feature_importances_. Nommez les colonnes 'variable' et 'importance' grâce au paramètre \"columns\". Puis réorganisez votre dataframe en utilisant ``.sort_values()`` de manière à ce qu'il soit classé par ordre décroissant de la colonne 'importance'."
   ]
  },
  {
   "cell_type": "code",
   "execution_count": null,
   "id": "52416389-f887-480a-84d9-bcfc98fc23de",
   "metadata": {
    "tags": []
   },
   "outputs": [],
   "source": [
    "# Code here!\n"
   ]
  },
  {
   "cell_type": "markdown",
   "id": "226858c1-bacc-4ed5-9763-8d3e817c1b7a",
   "metadata": {},
   "source": [
    "**>>>** Pour mieux visualiser les performances de notre modèle, utilisez la fonction ``confusion_matrix()``. Donnez-lui comme arguments y_test et y_pred et comme label ``rf.classes_``. Stockez le résultat dans une variable \"cm\" et affichez-la."
   ]
  },
  {
   "cell_type": "code",
   "execution_count": null,
   "id": "b5c5e03b-f167-491e-b7c7-8647c2bb94d1",
   "metadata": {},
   "outputs": [],
   "source": [
    "# Code here!\n"
   ]
  },
  {
   "cell_type": "markdown",
   "id": "1d27eaa2-0d10-45a2-af26-fd12148f174b",
   "metadata": {},
   "source": [
    "**>>>** Utilisez désormais la fonction ``ConfusionMatrixDisplay()`` afin de mieux visualiser la matrice de confusion. Donnez comme argument au paramètre \"confusion_matrix\" notre variable \"cm\", et au paramètre \"display_labels\" l'argument ``rf.classes_``"
   ]
  },
  {
   "cell_type": "code",
   "execution_count": null,
   "id": "9917ffc3-a70f-410f-9aeb-f98b1c752b2b",
   "metadata": {},
   "outputs": [],
   "source": [
    "# Code here!\n"
   ]
  },
  {
   "cell_type": "markdown",
   "id": "9c27a4c1-9cc0-4582-ba61-8ab21b61faba",
   "metadata": {},
   "source": [
    "**>>>** Finalement utilisez la fonction classification_report pour afficher les valeurs de la precision, du recall, et du f1-score."
   ]
  },
  {
   "cell_type": "code",
   "execution_count": null,
   "id": "ac480430-9dc7-4d2c-b5e3-b52f1570d57a",
   "metadata": {},
   "outputs": [],
   "source": [
    "# Code here!\n"
   ]
  },
  {
   "cell_type": "markdown",
   "id": "969770c8-7172-4de4-88b6-cbe5e8bced77",
   "metadata": {},
   "source": [
    "## Bonus\n",
    "\n",
    "- Utilisez un modèle de régression logistique.\n",
    "- Faites varier votre X en entrée."
   ]
  },
  {
   "cell_type": "markdown",
   "id": "b39c17e3-23cc-478e-b20e-48b729058fb9",
   "metadata": {},
   "source": [
    "### Logistic Regression"
   ]
  },
  {
   "cell_type": "code",
   "execution_count": null,
   "id": "3ea2dfbd-1d6b-4417-9350-d9c2d7c79930",
   "metadata": {
    "tags": []
   },
   "outputs": [],
   "source": [
    "from sklearn import linear_model\n",
    "from sklearn.metrics import mean_squared_error\n",
    "from sklearn.metrics import accuracy_score"
   ]
  },
  {
   "cell_type": "code",
   "execution_count": null,
   "id": "c942c18c-3522-47e0-a538-9dfa52163c0c",
   "metadata": {
    "tags": []
   },
   "outputs": [],
   "source": [
    "# Code here!\n"
   ]
  },
  {
   "cell_type": "code",
   "execution_count": null,
   "id": "b294fef3-2378-431e-85b5-d7aae4e1300b",
   "metadata": {},
   "outputs": [],
   "source": []
  }
 ],
 "metadata": {
  "kernelspec": {
   "display_name": "Python 3 (ipykernel)",
   "language": "python",
   "name": "python3"
  },
  "language_info": {
   "codemirror_mode": {
    "name": "ipython",
    "version": 3
   },
   "file_extension": ".py",
   "mimetype": "text/x-python",
   "name": "python",
   "nbconvert_exporter": "python",
   "pygments_lexer": "ipython3",
   "version": "3.10.9"
  }
 },
 "nbformat": 4,
 "nbformat_minor": 5
}
