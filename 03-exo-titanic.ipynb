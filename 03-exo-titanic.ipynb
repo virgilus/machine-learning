{
 "cells": [
  {
   "cell_type": "markdown",
   "id": "fd6651ed-4b7f-46dc-b8aa-dda0f951acde",
   "metadata": {},
   "source": [
    "# Titanic"
   ]
  },
  {
   "cell_type": "markdown",
   "id": "21ded457-1473-494a-9ca4-cd4ee39710a3",
   "metadata": {
    "tags": [
     "en"
    ]
   },
   "source": [
    "### Dataset\n",
    "\n",
    "The Titanic dataset is a classic in the field of machine learning. It consists of a list of passengers aboard the ship during its unique journey to the United States. Several features describe the passengers on board, as well as their final status: did they survive the shipwreck?\n",
    "\n",
    "Out of the 2,200 people on board the ship at the time of the sinking, approximately 1,500 perished. While our dataset is not exhaustive, it contains enough entries to apply machine learning methods to it.\n",
    "\n",
    "### Objective\n",
    "\n",
    "The goal of this exercise is to create a model to predict a passenger's survival based on their various known characteristics."
   ]
  },
  {
   "cell_type": "markdown",
   "id": "a86a35b7-2bd3-4585-b167-d00d7ddcd2a6",
   "metadata": {
    "tags": [
     "en"
    ]
   },
   "source": [
    "### Importing Libraries\n",
    "\n",
    "In the following cell, import all the libraries you will use. You will need to return to this cell from time to time to add libraries during this exercise. Don't forget to re-run the cell each time you add one.\n",
    "\n",
    "If the library you want is not installed on your system, please refer to the \"installation\" section of its online documentation. In the vast majority of cases, you can open a terminal window (Anaconda Prompt for Windows or a regular terminal for Mac and Linux), make sure you are in the right virtual environment if you are using one, and then type:\n",
    "\n",
    "``pip install YOUR_LIBRARY_NAME``\n",
    "\n",
    "To get started:\n",
    "\n",
    "**>>>** Import the \"pandas\" library using the alias \"pd\"\n",
    "\n",
    "**>>>** Import the \"numpy\" library using the alias \"np\""
   ]
  },
  {
   "cell_type": "code",
   "execution_count": null,
   "id": "459db07c-0efd-4fa7-a8ba-5c0190bec56f",
   "metadata": {},
   "outputs": [],
   "source": [
    "# code here!\n"
   ]
  },
  {
   "cell_type": "markdown",
   "id": "cad3dade-5c7a-4959-8eca-a493890e7f87",
   "metadata": {
    "tags": [
     "en"
    ]
   },
   "source": [
    "### Reading and Displaying the DataFrame\n",
    "\n",
    "**>>>** Using Pandas and the `pd.read_csv()` function, import and store the dataset in a dataframe named \"df.\"\n",
    "\n",
    "**>>>** Use the `.head()` function to display the first 5 rows."
   ]
  },
  {
   "cell_type": "code",
   "execution_count": null,
   "id": "8c4034ce-67ae-4eaa-820c-56bdea690489",
   "metadata": {},
   "outputs": [],
   "source": [
    "# code here!\n"
   ]
  },
  {
   "cell_type": "markdown",
   "id": "002fd860-4732-41e2-be8e-70961ae96892",
   "metadata": {
    "tags": [
     "en"
    ]
   },
   "source": [
    "### Columns\n",
    "\n",
    "**>>>** Display the columns of the dataframe using the `.columns` property."
   ]
  },
  {
   "cell_type": "code",
   "execution_count": null,
   "id": "25c7e4b5-1fbd-490a-bcb6-3ee359b11b47",
   "metadata": {},
   "outputs": [],
   "source": [
    "# code here!\n"
   ]
  },
  {
   "cell_type": "markdown",
   "id": "8aba292b-c169-44e2-8815-7f7ea36d35e9",
   "metadata": {
    "tags": [
     "en"
    ]
   },
   "source": [
    "### Explanation of the Different Columns\n",
    "\n",
    "When studying a dataset, it's important to always refer to the documentation or ask the person who generated the dataset for explanations. Here are the details that are relevant to us:\n",
    "\n",
    "- **'PassengerId'**: The ID of the passengers. It is equal to our index.\n",
    "- **'Survived'**: 1 if the person survived, 0 if they did not survive.\n",
    "- **'Pclass'**: Passenger class.\n",
    "    - 1: First class (upper class).\n",
    "    - 2: Second class (middle class).\n",
    "    - 3: Third class (lower class).\n",
    "- **'Name'**: The name of the passenger.\n",
    "- **'Sex'**: The gender of the passenger.\n",
    "- **'Age'**: The age of the passenger. If the age is estimated, it may be in the form of decimals.\n",
    "- **'SibSp'**: *Siblings and Spouses*. The number of brothers, sisters, half-brothers, half-sisters, husbands, or wives accompanying them on the ship.\n",
    "- **'Parch'**: *Parents and Children*. The number of fathers, mothers, sons, daughters, stepsons, or stepdaughters accompanying them on the ship.\n",
    "- **'Ticket'**: The ticket number of the person.\n",
    "- **'Fare'**: The cost of the ticket.\n",
    "- **'Cabin'**: The cabin number.\n",
    "- **'Embarked'**: The port of embarkation:\n",
    "    - C: Cherbourg\n",
    "    - Q: Queenstown\n",
    "    - S: Southampton"
   ]
  },
  {
   "cell_type": "markdown",
   "id": "ee8d6ea4-27e2-4a7f-95b4-0d53fa47d297",
   "metadata": {},
   "source": [
    "# Exploration "
   ]
  },
  {
   "cell_type": "markdown",
   "id": "e8b48428-f3b0-4ddc-a4cd-4a9e1faf5196",
   "metadata": {
    "tags": [
     "en"
    ]
   },
   "source": [
    "**>>>** Apply a `.describe()` on the dataframe. By default, this method applies only to numerical variables. If you prefer the result to be transposed, use the `.T` property on the dataframe returned by `.describe()`."
   ]
  },
  {
   "cell_type": "code",
   "execution_count": null,
   "id": "5de16b44-b75b-4602-8d6b-904b46106df5",
   "metadata": {},
   "outputs": [],
   "source": [
    "# Code here!\n"
   ]
  },
  {
   "cell_type": "markdown",
   "id": "62170342-78d9-4b4e-a46c-5ff50deb5912",
   "metadata": {
    "tags": [
     "en"
    ]
   },
   "source": [
    "**>>>** Display basic statistics for non-numeric variables. To do this, use the \"exclude\" parameter of the `.describe()` method and provide `np.number` as the argument."
   ]
  },
  {
   "cell_type": "code",
   "execution_count": null,
   "id": "5dc91422-2663-4457-aafb-4f2a734604bb",
   "metadata": {},
   "outputs": [],
   "source": [
    "# Code here!\n"
   ]
  },
  {
   "cell_type": "markdown",
   "id": "b8187425-86e3-4092-ac9f-fe9d14af7867",
   "metadata": {
    "tags": [
     "en"
    ]
   },
   "source": [
    "### Removing Unnecessary Columns\n",
    "\n",
    "Use the `.drop()` method to remove the 'PassengerId' column since it's just a duplicate of the index."
   ]
  },
  {
   "cell_type": "code",
   "execution_count": null,
   "id": "6471cfb8-0513-46da-b0a4-6b3fd0baa98a",
   "metadata": {},
   "outputs": [],
   "source": [
    "# Code here!\n"
   ]
  },
  {
   "cell_type": "markdown",
   "id": "19f28daf-f03e-41b9-9e6a-353125be0385",
   "metadata": {
    "tags": [
     "en"
    ]
   },
   "source": [
    "### Statistics and Visualization\n",
    "\n",
    "To better understand the data, let's explore each column using statistical tools and visualizations.\n",
    "\n",
    "**>>>** Go back to the first cell and import the 'seaborn' library as 'sns' and the 'matplotlib.pyplot' library as 'plt'."
   ]
  },
  {
   "cell_type": "markdown",
   "id": "7bed9b04-534b-48a0-a733-efb05b55f07e",
   "metadata": {
    "tags": [
     "en"
    ]
   },
   "source": [
    "### 'Survived'\n",
    "\n",
    "**>>>** Examine the distribution of the 'Survived' column using the `.value_counts` method. You can optionally pass the `normalize=True` parameter for a better estimate of the distribution."
   ]
  },
  {
   "cell_type": "code",
   "execution_count": null,
   "id": "ae246008-5a3e-4635-ba80-4e4caad1ea9c",
   "metadata": {
    "tags": []
   },
   "outputs": [],
   "source": [
    "# Code here!\n"
   ]
  },
  {
   "cell_type": "markdown",
   "id": "8976da5e-765a-45d1-a7de-8961c537d2de",
   "metadata": {
    "tags": [
     "en"
    ]
   },
   "source": [
    "**>>>** Display the results in the form of a graph by using the `.plot.bar()` method on this result."
   ]
  },
  {
   "cell_type": "code",
   "execution_count": null,
   "id": "7c709b97-f3be-44c6-84e4-14681c96b5a7",
   "metadata": {},
   "outputs": [],
   "source": [
    "# Code here!\n"
   ]
  },
  {
   "cell_type": "markdown",
   "id": "6033e199-b19d-4d6e-bf7d-325aebc05ad6",
   "metadata": {
    "tags": [
     "en"
    ]
   },
   "source": [
    "**>>>** Display the same chart, but use the `sns.countplot()` function, providing the series `df['survived']` as the argument for the \"x\" parameter."
   ]
  },
  {
   "cell_type": "code",
   "execution_count": null,
   "id": "008294ad-2efa-4f01-aab7-5e3c012a8d3a",
   "metadata": {},
   "outputs": [],
   "source": [
    "# Code here!\n"
   ]
  },
  {
   "cell_type": "markdown",
   "id": "c0fbe820-e3e9-4e2e-8673-98604ba5fd72",
   "metadata": {
    "tags": [
     "en"
    ]
   },
   "source": [
    "**>>>** Let's now examine how the passenger class influences the survival rate. Use the same function as before, but this time pass the column `df['Pclass']` as \"x,\" and add a second parameter named \"hue,\" giving it `df['Survived']` as the argument."
   ]
  },
  {
   "cell_type": "code",
   "execution_count": null,
   "id": "232b4c42-2d04-4a52-9df3-05f2dca60605",
   "metadata": {},
   "outputs": [],
   "source": [
    "# Code here!\n"
   ]
  },
  {
   "cell_type": "markdown",
   "id": "abcb500f-3eb1-4c89-9f95-80102222e406",
   "metadata": {
    "tags": [
     "en"
    ]
   },
   "source": [
    "### Passenger Names\n",
    "\n",
    "The title of address (Mrs., Miss, Mr., etc.) can provide us with information about the passengers. For now, this information is contained within their names.\n",
    "\n",
    "**>>>** Create a new column named \"NameTitle\" containing only the titles of address. There are various ways to do this:\n",
    "- Use the `str.split()` function twice with the `expand=True` parameter, retrieving the correct newly created series each time.\n",
    "- Use the `map()` function twice, along with lambda functions, to apply successive `split()` operations to the series and retrieve the desired value using the index of the created list.\n",
    "\n",
    "PS: The term 'master' was historically used for young children."
   ]
  },
  {
   "cell_type": "code",
   "execution_count": null,
   "id": "02e1fd84-c584-4402-87a0-656b3a4b6157",
   "metadata": {},
   "outputs": [],
   "source": [
    "# Code here!\n"
   ]
  },
  {
   "cell_type": "markdown",
   "id": "e9ae7647-d7b4-40b7-ba0d-a040b76574ba",
   "metadata": {
    "tags": [
     "en"
    ]
   },
   "source": [
    "**>>>** Perform a `value_counts()` on the \"NameTitle\" Series."
   ]
  },
  {
   "cell_type": "code",
   "execution_count": null,
   "id": "ad98c18a-9a8a-431e-a8c5-8209d278552f",
   "metadata": {},
   "outputs": [],
   "source": [
    "# Code here!\n"
   ]
  },
  {
   "cell_type": "markdown",
   "id": "d82a2f44-6546-415a-8f29-f3d37eebd75f",
   "metadata": {
    "tags": [
     "en"
    ]
   },
   "source": [
    "**>>>** Some titles are very rare, and others need to be grouped into larger categories. Create a dictionary with the old titles as keys and the new titles to which they will be assigned as values. Make sure that:\n",
    "\n",
    "- \"Mlle.\" and \"Ms.\" are assigned to \"Miss.\"\n",
    "- \"Lady,\" \"Mme.,\" and \"the\" are assigned to \"Mrs.\"\n",
    "- \"Major,\" \"Col.,\" \"Sir,\" \"Don.,\" and \"Jonkheer.\" are assigned to \"Mr.\"\n",
    "- There's no need to add titles that will remain the same, but you can do so if you prefer.\n",
    "\n",
    "*Tips*:\n",
    "\n",
    "- The `.replace()` method will be the best choice here!\n",
    "- Then, verify with a `.value_counts()` that everything is in order."
   ]
  },
  {
   "cell_type": "code",
   "execution_count": null,
   "id": "560a592e-a33e-4408-99a0-0f3063015de9",
   "metadata": {},
   "outputs": [],
   "source": [
    "# Code here!\n"
   ]
  },
  {
   "cell_type": "markdown",
   "id": "e86f80a6-e2b2-499b-b4f7-c1558066eb7f",
   "metadata": {
    "tags": [
     "en"
    ]
   },
   "source": [
    "**>>>** Calculate the survival rate for each name title. To do this, perform a *groupby* on the \"Survived\" column, asking it to group by the 'NameTitle' column. Choose `mean()` as the aggregation method. You can also add a `.sort_values(ascending=False)` to sort the result in descending order.\n",
    "\n",
    "*Tips*:\n",
    "\n",
    "- If you want to display other indicators as well, you can use the `.agg()` method on the grouped data, giving it a list of functions to use as strings. For example, \"mean\", \"median\", \"count\". The result will then be a dataframe."
   ]
  },
  {
   "cell_type": "code",
   "execution_count": null,
   "id": "0b73023d-f8aa-4dba-8aff-3f7ae3b238fa",
   "metadata": {},
   "outputs": [],
   "source": [
    "# Code here!\n"
   ]
  },
  {
   "cell_type": "markdown",
   "id": "b71f919c-cc03-4042-8000-7cf7b2126d9b",
   "metadata": {
    "tags": [
     "en"
    ]
   },
   "source": [
    "**>>>** Next, generate a \"bar\" type graph for this newly created series to better visualize the data. You can use matplotlib or seaborn as you prefer."
   ]
  },
  {
   "cell_type": "code",
   "execution_count": null,
   "id": "c1cbfd53-739a-4ddf-8fb0-ad4a12433a2a",
   "metadata": {},
   "outputs": [],
   "source": [
    "# Code here!\n"
   ]
  },
  {
   "cell_type": "markdown",
   "id": "34f12a87-5636-4ad1-b336-dfcd4f72d511",
   "metadata": {
    "tags": [
     "en"
    ]
   },
   "source": [
    "### Sex\n",
    "\n",
    "**>>>** Display the proportion of men and women with a `.value_counts()`. You can normalize the data to make the result clearer."
   ]
  },
  {
   "cell_type": "code",
   "execution_count": null,
   "id": "9174882b-2ef4-4a3f-b747-43cb99dd8463",
   "metadata": {},
   "outputs": [],
   "source": [
    "# Code here!\n"
   ]
  },
  {
   "cell_type": "markdown",
   "id": "22de1198-1d17-4238-9175-66bf2ddec8e8",
   "metadata": {
    "tags": [
     "en"
    ]
   },
   "source": [
    "**>>>** Display the survival rate for each gender."
   ]
  },
  {
   "cell_type": "code",
   "execution_count": null,
   "id": "5e564118-ba24-4674-80e4-fc35f78b3d4b",
   "metadata": {},
   "outputs": [],
   "source": [
    "# Code here!\n"
   ]
  },
  {
   "cell_type": "markdown",
   "id": "87ff5712-0cc6-4bfc-90ec-700382d662f6",
   "metadata": {
    "tags": [
     "en"
    ]
   },
   "source": [
    "### Age\n",
    "\n",
    "**>>>** Determine how many values are missing in this column."
   ]
  },
  {
   "cell_type": "code",
   "execution_count": null,
   "id": "e5ef9149-3d8d-431c-8b08-ea11b1b94452",
   "metadata": {},
   "outputs": [],
   "source": [
    "# Code here!\n"
   ]
  },
  {
   "cell_type": "markdown",
   "id": "0772d7b4-0938-44af-8c24-3d4057b24733",
   "metadata": {
    "tags": [
     "en"
    ]
   },
   "source": [
    "**>>>** We are going to artificially fill in these missing values. While we could simply assign them the mean or median age of the passengers, we have information about the titles of address for all passengers, including those 177 people whose age is missing.\n",
    "\n",
    "Therefore, we will complete these missing data with the mean age relative to their title of address.\n",
    "\n",
    "The `.fillna()` method allows you to fill empty values in a dataframe or series with a value of your choice. It can take multiple arguments, including a Series. Since we know the titles of all passengers, we can apply the following method:\n",
    "\n",
    "- Create a dictionary containing the 'NameTitles' as keys and the average age as values. You can do this in a single line of code with a dictionary comprehension.\n",
    "- Use `.map()` on the `df['NameTitle']` column with this dictionary as an argument to create a Series that contains, for each person, the average age of the 'NameTitle' category to which they belong. Be careful not to modify the `df['NameTitle']` column!\n",
    "- Once you have achieved this result, apply the `.fillna()` method to `df['Age']` and pass the newly generated Series as an argument.\n",
    "\n",
    "*Tips*:\n",
    "- Start by displaying the average age for each 'NameTitle'.\n",
    "- To generate the dictionary, remember that the `.unique()` method will generate a list of all unique values in a series.\n",
    "- Calculate the average of a group by selecting the appropriate rows with `.loc`."
   ]
  },
  {
   "cell_type": "code",
   "execution_count": null,
   "id": "c21d7344-80f4-43d5-9b88-a725741e2297",
   "metadata": {},
   "outputs": [],
   "source": [
    "# Code here!\n"
   ]
  },
  {
   "cell_type": "markdown",
   "id": "915b0703-dd51-48a4-896c-d93b9a193b3b",
   "metadata": {
    "tags": [
     "en"
    ]
   },
   "source": [
    "**>>>** Use `pd.qcut` to create a new variable \"AgeClass\" that divides the distribution into 6 equal parts. Also, check the type of this newly created object."
   ]
  },
  {
   "cell_type": "code",
   "execution_count": null,
   "id": "c7515ad3-c443-4013-8a2d-d7bff44927fc",
   "metadata": {},
   "outputs": [],
   "source": [
    "# Code here!\n"
   ]
  },
  {
   "cell_type": "markdown",
   "id": "2e054aec-9fab-4a18-912e-30d041b81613",
   "metadata": {
    "tags": [
     "en"
    ]
   },
   "source": [
    "**>>>** Calculate the survival rate for each age class."
   ]
  },
  {
   "cell_type": "code",
   "execution_count": null,
   "id": "565dbac8-c17d-4364-9419-fb5c23ba315e",
   "metadata": {},
   "outputs": [],
   "source": [
    "# Code here!"
   ]
  },
  {
   "cell_type": "markdown",
   "id": "4c729789-cf4c-4da3-9837-f1cdb086cc9e",
   "metadata": {},
   "source": [
    "### Embarkment"
   ]
  },
  {
   "cell_type": "code",
   "execution_count": null,
   "id": "5409fb80-a97b-45f9-8671-0fe4e079dbfb",
   "metadata": {},
   "outputs": [],
   "source": [
    "df['Embarked'].value_counts()"
   ]
  },
  {
   "cell_type": "code",
   "execution_count": null,
   "id": "cecabe70-3323-469b-8d8b-f1028ab69c9d",
   "metadata": {},
   "outputs": [],
   "source": [
    "df['Embarked'].isna().sum()"
   ]
  },
  {
   "cell_type": "markdown",
   "id": "8d091255-10f3-463f-af29-c42f20bacbf4",
   "metadata": {
    "tags": [
     "en"
    ]
   },
   "source": [
    "**>>>** We have 2 empty values in this column. Fill them with the letter 'S' as it is the mode of the distribution."
   ]
  },
  {
   "cell_type": "code",
   "execution_count": null,
   "id": "b2890234-b9f8-4e06-b0b9-c69f5aa615d5",
   "metadata": {},
   "outputs": [],
   "source": [
    "# Code here!\n"
   ]
  },
  {
   "cell_type": "markdown",
   "id": "1d44bdf2-368b-4d26-8781-dc1495e22a34",
   "metadata": {
    "tags": [
     "en"
    ]
   },
   "source": [
    "**>>>** Create an `sns.countplot()` on the 'Embarked' column using the 'hue' parameter to visualize the origin of social classes for each port."
   ]
  },
  {
   "cell_type": "code",
   "execution_count": null,
   "id": "73868ba9-43a5-49e0-bc6f-802fc2a09130",
   "metadata": {},
   "outputs": [],
   "source": [
    "# Code here!\n"
   ]
  },
  {
   "cell_type": "markdown",
   "id": "67205dff-8d66-49d4-aeea-f9711327b3ac",
   "metadata": {
    "tags": [
     "en"
    ]
   },
   "source": [
    "### Cabin\n",
    "\n",
    "The first letter of each cabin can be useful to us. Passengers who were in cabins near the lifeboats may have had a better chance of survival. The fact that most passengers did not have a cabin may have also influenced their survival rate."
   ]
  },
  {
   "cell_type": "code",
   "execution_count": null,
   "id": "06a7d024-6abd-4fa8-a765-45e22d92c662",
   "metadata": {},
   "outputs": [],
   "source": [
    "df['Cabin'].isna().sum()"
   ]
  },
  {
   "cell_type": "markdown",
   "id": "ece3df45-7ef4-498a-b8e3-619d28aaa6f5",
   "metadata": {
    "tags": [
     "en"
    ]
   },
   "source": [
    "**>>>** Create a new column named \"CabinLetter\" that contains the first letter of each cabin. Note that `None` values are considered as float, so you need to convert them. They will become lowercase \"n,\" which is acceptable."
   ]
  },
  {
   "cell_type": "code",
   "execution_count": null,
   "id": "33446e07-2fed-4d19-ac19-0313a6c75988",
   "metadata": {},
   "outputs": [],
   "source": [
    "# Code here!\n"
   ]
  },
  {
   "cell_type": "markdown",
   "id": "c7c4587e-04c3-4e22-8a0f-83b5403b5f0d",
   "metadata": {
    "tags": [
     "en"
    ]
   },
   "source": [
    "### Ticket\n",
    "\n",
    "At first glance, ticket numbers may not seem useful. However, tickets with longer numbers appear to be correlated with a higher survival rate. Let's test this hypothesis. Create a \"TicketLen\" column containing the length of the tickets."
   ]
  },
  {
   "cell_type": "code",
   "execution_count": null,
   "id": "7d53710d-6ad4-4813-8eb6-dd048f55ca26",
   "metadata": {},
   "outputs": [],
   "source": [
    "# Code here!\n"
   ]
  },
  {
   "cell_type": "markdown",
   "id": "a1298360-be32-4e74-aafe-659f9c248bb6",
   "metadata": {
    "tags": [
     "en"
    ]
   },
   "source": [
    "**>>>** Use `sns.countplot()` to display a chart with the ticket length on the x-axis, the count on the y-axis, and differentiate it all (*hue*) by the \"survived\" column."
   ]
  },
  {
   "cell_type": "code",
   "execution_count": null,
   "id": "f6272ad4-5511-4bdd-a058-916bcbb998bd",
   "metadata": {},
   "outputs": [],
   "source": [
    "# Code here!\n"
   ]
  },
  {
   "cell_type": "raw",
   "id": "83d8e082-367e-4fac-97e2-c565dbf36ff9",
   "metadata": {
    "tags": []
   },
   "source": [
    "# Checkpoint\n",
    "# Run this cell in order to load a clean df.\n",
    "df = pd.read_csv('data/checkpoints/titanic_df_1.csv', dtype={'AgeClass' : 'category'})"
   ]
  },
  {
   "cell_type": "markdown",
   "id": "e7ab015d-fdab-4610-a4a4-f56541ca40d1",
   "metadata": {
    "tags": [
     "en"
    ]
   },
   "source": [
    "### Model building\n",
    "\n",
    "Here, we will use a random forest. We need to prepare the data and select our features (X). Let's start by converting our categorical columns into \"dummy\" variables."
   ]
  },
  {
   "cell_type": "code",
   "execution_count": null,
   "id": "18ebfa7f-2970-4369-894e-9ce7106834ee",
   "metadata": {
    "tags": []
   },
   "outputs": [],
   "source": [
    "df.columns"
   ]
  },
  {
   "cell_type": "markdown",
   "id": "b28c2d22-038b-461d-9b22-83211b4fc38f",
   "metadata": {
    "tags": [
     "en"
    ]
   },
   "source": [
    "**>>>** Create two lists:\n",
    "\n",
    "- The first list, named \"cat_cols,\" will contain the names of all categorical columns.\n",
    "- The second list, named \"num_cols,\" will contain all numerical columns."
   ]
  },
  {
   "cell_type": "code",
   "execution_count": null,
   "id": "d93468b8-aa4a-43d7-b9c3-d7aadbeb7574",
   "metadata": {
    "tags": []
   },
   "outputs": [],
   "source": [
    "# Code here!\n"
   ]
  },
  {
   "cell_type": "markdown",
   "id": "9e28181a-5755-487d-8a14-26c07babadaf",
   "metadata": {
    "tags": [
     "en"
    ]
   },
   "source": [
    "**>>>** Now, transform all the categorical columns into *dummy* columns using the `pd.get_dummies()` function. When it's done, create a new dataframe that will concatenate the dataframe containing the numerical columns and the dataframe containing the \"dummified\" categorical columns using the `pd.concat` function. Store this new dataframe in a variable X. Then, check the *dtypes* of X."
   ]
  },
  {
   "cell_type": "code",
   "execution_count": null,
   "id": "80ff3b14-7a64-4564-b72e-fbafb32c9746",
   "metadata": {
    "tags": []
   },
   "outputs": [],
   "source": [
    "# code here!\n"
   ]
  },
  {
   "cell_type": "markdown",
   "id": "4697a38e-6203-4943-9b66-04fd0ab4166c",
   "metadata": {
    "tags": [
     "en"
    ]
   },
   "source": [
    "**>>>** Create a variable named \"y\" that will contain the 'Survived' column (the target value to predict)."
   ]
  },
  {
   "cell_type": "code",
   "execution_count": null,
   "id": "73f7e0e7-6bbe-4a9c-9f04-f1c5b0ee7458",
   "metadata": {
    "tags": []
   },
   "outputs": [],
   "source": [
    "# code here!\n"
   ]
  },
  {
   "cell_type": "markdown",
   "id": "fee22e65-e0a9-4ffc-bf58-ceea97328d09",
   "metadata": {
    "tags": [
     "en"
    ]
   },
   "source": [
    "**>>>** Use the `train_test_split()` function to create your variables X_train, X_test, y_train, and y_test. Set the random_state parameter to 42."
   ]
  },
  {
   "cell_type": "code",
   "execution_count": null,
   "id": "74d53d82-e866-48a3-b328-1b6b49ea6308",
   "metadata": {
    "tags": []
   },
   "outputs": [],
   "source": [
    "from sklearn.model_selection import train_test_split\n",
    "# Code here!\n"
   ]
  },
  {
   "cell_type": "markdown",
   "id": "cf30ea6a-0816-47e3-b749-e6d644af004a",
   "metadata": {},
   "source": [
    "## RandomForestClassifier"
   ]
  },
  {
   "cell_type": "code",
   "execution_count": null,
   "id": "e3d18fbb-2f9d-4bc9-90fc-52e097bffdc3",
   "metadata": {
    "tags": []
   },
   "outputs": [],
   "source": [
    "from sklearn.ensemble import RandomForestClassifier\n",
    "from sklearn.metrics import accuracy_score, confusion_matrix, classification_report, ConfusionMatrixDisplay"
   ]
  },
  {
   "cell_type": "markdown",
   "id": "29c6ea3f-d9be-455a-91b2-18e8bb7466e0",
   "metadata": {
    "tags": [
     "en"
    ]
   },
   "source": [
    "**>>>** In the next cell, write four lines of code:\n",
    "\n",
    "- Declare a variable \"rf\" (for random forest) that will contain the model `RandomForestClassifier()`. Use 42 as the value for the \"random_state\" parameter.\n",
    "- Fit the model to your training data.\n",
    "- Store the predictions made on your X_test in a variable named \"y_pred.\"\n",
    "- Calculate the accuracy score with the accuracy_score() function, using y_test and y_pred as arguments."
   ]
  },
  {
   "cell_type": "code",
   "execution_count": null,
   "id": "db33e874-f798-4d23-b4de-75e23fec29ff",
   "metadata": {
    "tags": []
   },
   "outputs": [],
   "source": [
    "# Code here!\n"
   ]
  },
  {
   "cell_type": "markdown",
   "id": "c359a762-9d89-4343-a539-8b9a0d69397f",
   "metadata": {
    "tags": [
     "en"
    ]
   },
   "source": [
    "**>>>** Display the `feature_importances_` property of the rf model."
   ]
  },
  {
   "cell_type": "code",
   "execution_count": null,
   "id": "e9b810aa-71a1-4aac-a194-5f490eb0b6e1",
   "metadata": {
    "tags": []
   },
   "outputs": [],
   "source": [
    "# Code here!\n"
   ]
  },
  {
   "cell_type": "markdown",
   "id": "e5920319-56d2-43f4-b547-3b4bdcdbe5fc",
   "metadata": {
    "tags": [
     "en"
    ]
   },
   "source": [
    "**>>>** We want to visualize each variable along with its importance in the final outcome of our model.\n",
    "\n",
    "To do this, create a new DataFrame (no need to store it in a variable) using the `pd.DataFrame` function. Provide it with an object that is a `zip` of X.columns and rf.feature_importances_. Name the columns 'variable' and 'importance' using the \"columns\" parameter. Then, reorganize your DataFrame using `.sort_values()` so that it is sorted in descending order by the 'importance' column."
   ]
  },
  {
   "cell_type": "code",
   "execution_count": null,
   "id": "52416389-f887-480a-84d9-bcfc98fc23de",
   "metadata": {
    "tags": []
   },
   "outputs": [],
   "source": [
    "# Code here!\n"
   ]
  },
  {
   "cell_type": "markdown",
   "id": "bc1d2389-bd2a-4d6d-98a3-6fdc60f888c5",
   "metadata": {
    "tags": [
     "en"
    ]
   },
   "source": [
    "**>>>** To better visualize the performance of our model, use the `confusion_matrix()` function. Provide it with y_test and y_pred as arguments and use `rf.classes_` as the label. Store the result in a variable \"cm\" and display it."
   ]
  },
  {
   "cell_type": "code",
   "execution_count": null,
   "id": "b5c5e03b-f167-491e-b7c7-8647c2bb94d1",
   "metadata": {},
   "outputs": [],
   "source": [
    "# Code here!\n"
   ]
  },
  {
   "cell_type": "markdown",
   "id": "3262a945-0f97-46e5-b426-72bf415c40fb",
   "metadata": {
    "tags": [
     "en"
    ]
   },
   "source": [
    "**>>>** Now, use the `ConfusionMatrixDisplay()` function to visualize the confusion matrix more effectively. Provide our variable \"cm\" as the argument to the \"confusion_matrix\" parameter, and use `rf.classes_` as the argument for the \"display_labels\" parameter."
   ]
  },
  {
   "cell_type": "code",
   "execution_count": null,
   "id": "9917ffc3-a70f-410f-9aeb-f98b1c752b2b",
   "metadata": {},
   "outputs": [],
   "source": [
    "# Code here!\n"
   ]
  },
  {
   "cell_type": "markdown",
   "id": "f3a0fb4b-9d60-4d2d-935e-2bcc2f2455c7",
   "metadata": {
    "tags": [
     "en"
    ]
   },
   "source": [
    "### True / False - Positive / Negative\n",
    "\n",
    "- The intersection between the `true label` (1) and the `predicted label` (1) represents TP (*True Positive*).\n",
    "- The intersection between the `true label` (0) and the `predicted label` (0) represents TN (*True Negative*).\n",
    "- The intersection between the `true label` (1) and the `predicted label` (0) represents FN (*False Negative*).\n",
    "- The intersection between the `true label` (0) and the `predicted label` (1) represents FP (*False Positive*)."
   ]
  },
  {
   "cell_type": "markdown",
   "id": "b81fad02-d5a7-49fe-94c0-98a70ba420f8",
   "metadata": {
    "tags": [
     "en"
    ]
   },
   "source": [
    "**>>>** Finally, use the `classification_report` function to display the precision, recall, and f1-score values."
   ]
  },
  {
   "cell_type": "code",
   "execution_count": null,
   "id": "ac480430-9dc7-4d2c-b5e3-b52f1570d57a",
   "metadata": {},
   "outputs": [],
   "source": [
    "# Code here!\n"
   ]
  },
  {
   "cell_type": "markdown",
   "id": "39ab01d0-f34d-4171-a880-1f93f8b407d4",
   "metadata": {},
   "source": [
    "<div>\n",
    "<img src=\"files/precision_recall_wiki.png\" alt=\"precision_recall_accuracy\" width=\"40%\" align='center' source=\"wikipedia\" /> </div>"
   ]
  },
  {
   "cell_type": "markdown",
   "id": "3c713179-c042-4069-9044-b222eb12ada4",
   "metadata": {
    "tags": []
   },
   "source": [
    "<div>\n",
    "<img src=\"files/precision_recall_accuracy.png\" alt=\"precision_recall_accuracy\" width=\"70%\" align='center' source=\"https://medium.com/@shrutisaxena0617/precision-vs-recall-386cf9f89488\" /> </div>"
   ]
  },
  {
   "cell_type": "markdown",
   "id": "d49f6ab0-ae3f-49de-8a83-70ac9cc99bd4",
   "metadata": {
    "tags": [
     "en"
    ]
   },
   "source": [
    "## Understanding the classification report\n",
    "\n",
    "**Precision**: Precision is a measure of how many of the predicted positive instances were actually positive. In this context, it tells us the percentage of passengers predicted to have survived (1) who actually survived. For the \"0\" class (did not survive), the precision is 0.85, meaning that 85% of the predicted non-survivors were correctly predicted. For the \"1\" class (survived), the precision is 0.79, indicating that 79% of the predicted survivors were correctly predicted.\n",
    "\n",
    "**Recall**: Recall, also known as sensitivity or true positive rate, is a measure of how many of the actual positive instances were correctly predicted. In this context, it tells us the percentage of passengers who actually survived (1) that were correctly identified by the model. The recall for the \"0\" class is 0.87, indicating that 87% of the actual non-survivors were correctly identified. For the \"1\" class, the recall is 0.78, meaning that 78% of the actual survivors were correctly identified.\n",
    "\n",
    "**F1-score**: The F1-score is the harmonic mean of precision and recall. It provides a balance between precision and recall and is particularly useful when you want to consider both false positives and false negatives. The F1-score for the \"0\" class is 0.86, and for the \"1\" class, it's 0.78.\n",
    "\n",
    "**Support**: Support represents the number of occurrences of each class in the test set. In this case, there are 134 instances of the \"0\" class (did not survive) and 89 instances of the \"1\" class (survived).\n",
    "\n",
    "**Accuracy**: Accuracy is a measure of overall correctness. It tells us what percentage of all instances (both \"0\" and \"1\" classes) were correctly classified. In this case, the overall accuracy is 0.83, which means that 83% of the test set instances were correctly classified by the model.\n",
    "\n",
    "**Macro Avg**: Macro average takes the unweighted average of precision, recall, and F1-score for each class. In this case, the macro average F1-score is 0.82.\n",
    "\n",
    "**Weighted Avg**: Weighted average takes the weighted average of precision, recall, and F1-score for each class, with weights based on the number of instances in each class. In this case, the weighted average F1-score is 0.83."
   ]
  },
  {
   "cell_type": "markdown",
   "id": "9991c04c-16d1-453b-9bb6-d1470e79926e",
   "metadata": {
    "tags": [
     "en"
    ]
   },
   "source": [
    "## Bonus\n",
    "\n",
    "- Use a logistic regression model."
   ]
  },
  {
   "cell_type": "markdown",
   "id": "b39c17e3-23cc-478e-b20e-48b729058fb9",
   "metadata": {},
   "source": [
    "### Logistic Regression"
   ]
  },
  {
   "cell_type": "code",
   "execution_count": null,
   "id": "3ea2dfbd-1d6b-4417-9350-d9c2d7c79930",
   "metadata": {
    "tags": []
   },
   "outputs": [],
   "source": [
    "from sklearn import linear_model\n",
    "from sklearn.metrics import mean_squared_error\n",
    "from sklearn.metrics import accuracy_score"
   ]
  },
  {
   "cell_type": "code",
   "execution_count": null,
   "id": "c942c18c-3522-47e0-a538-9dfa52163c0c",
   "metadata": {
    "tags": []
   },
   "outputs": [],
   "source": [
    "# Code here!\n"
   ]
  }
 ],
 "metadata": {
  "kernelspec": {
   "display_name": "Python 3 (ipykernel)",
   "language": "python",
   "name": "python3"
  },
  "language_info": {
   "codemirror_mode": {
    "name": "ipython",
    "version": 3
   },
   "file_extension": ".py",
   "mimetype": "text/x-python",
   "name": "python",
   "nbconvert_exporter": "python",
   "pygments_lexer": "ipython3",
   "version": "3.10.9"
  }
 },
 "nbformat": 4,
 "nbformat_minor": 5
}
