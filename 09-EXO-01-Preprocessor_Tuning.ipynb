{
 "cells": [
  {
   "cell_type": "markdown",
   "metadata": {},
   "source": [
    "# Preprocessor Tuning"
   ]
  },
  {
   "cell_type": "markdown",
   "metadata": {},
   "source": [
    "## The ```breast tumors``` Dataset"
   ]
  },
  {
   "cell_type": "markdown",
   "metadata": {},
   "source": [
    "- The following dataset describes tumors that are either <font color=red>malignant</font> or <font color=green>benign</font>. \n",
    "- The task is to detect as many malignant tumors as possible."
   ]
  },
  {
   "cell_type": "code",
   "execution_count": null,
   "metadata": {
    "tags": []
   },
   "outputs": [],
   "source": [
    "import pandas as pd\n",
    "import numpy as np\n",
    "\n",
    "from sklearn.datasets import load_breast_cancer\n",
    "pd.set_option('display.max_columns', None)\n",
    "\n",
    "data = load_breast_cancer()\n",
    "df = pd.DataFrame(data.data, columns=data.feature_names)\n",
    "df['target'] = data.target\n",
    "df = df.rename(columns={'target': 'malignant'})"
   ]
  },
  {
   "cell_type": "code",
   "execution_count": null,
   "metadata": {
    "tags": []
   },
   "outputs": [],
   "source": [
    "round(df['malignant'].value_counts(normalize = True), 2)"
   ]
  },
  {
   "cell_type": "markdown",
   "metadata": {},
   "source": [
    "## Building a Pipeline"
   ]
  },
  {
   "cell_type": "markdown",
   "metadata": {},
   "source": [
    "❓ **>>>** Combine the following steps in a **`Pipeline`** object named `pipeline`:\n",
    "\n",
    "1. Impute missing values with a **`KNNImputer`**\n",
    "2. Scale all the (numerical) features with a **`MinMaxScaler`**\n",
    "3. Model a **`LogisticRegression`** with default parameters"
   ]
  },
  {
   "cell_type": "code",
   "execution_count": null,
   "metadata": {
    "tags": []
   },
   "outputs": [],
   "source": [
    "from sklearn.pipeline import Pipeline\n",
    "\n",
    "from sklearn.impute import KNNImputer\n",
    "from sklearn.preprocessing import MinMaxScaler\n",
    "from sklearn.linear_model import LogisticRegression\n",
    "\n",
    "# Code here!\n"
   ]
  },
  {
   "cell_type": "markdown",
   "metadata": {},
   "source": [
    "## Optimizing a pipelined model"
   ]
  },
  {
   "cell_type": "markdown",
   "metadata": {},
   "source": [
    "❓ **>>>**  What is the optimal number of neighbors for the KNN imputer: 2, 5, or 10 ?\n",
    "\n",
    "- Perform a GridSearch on your pipeline and save your answer under a variable called `n_best`.\n",
    "- Be careful: Use a scoring metric that is relevant for the task in your Grid Search.\n",
    "\n",
    "- Feel free to GridSearch on the whole dataset instead of using a train/test split in this challenge. Here, the goal is just to become familiar with Pipelines."
   ]
  },
  {
   "cell_type": "code",
   "execution_count": null,
   "metadata": {
    "tags": []
   },
   "outputs": [],
   "source": [
    "n_best = None\n",
    "# Code here!\n"
   ]
  },
  {
   "cell_type": "markdown",
   "metadata": {},
   "source": [
    "✅ **Expected results** : ```n_best``` = 2"
   ]
  },
  {
   "cell_type": "markdown",
   "metadata": {},
   "source": [
    "## Evaluating a pipeline"
   ]
  },
  {
   "cell_type": "markdown",
   "metadata": {},
   "source": [
    "❓ **>>>** **Question: what is the performance of the optimal pipeline**\n",
    "\n",
    "- Make sure you cross-validate your optimal pipeline! \n",
    "- Store your result as a `float` number in a variable named `cv_score`"
   ]
  },
  {
   "cell_type": "code",
   "execution_count": null,
   "metadata": {
    "tags": []
   },
   "outputs": [],
   "source": [
    "cv_score = None\n",
    "# Code here!"
   ]
  },
  {
   "cell_type": "markdown",
   "metadata": {
    "tags": []
   },
   "source": [
    "✅ **Expected results** : ```cv_score``` = 0.9915884194053209"
   ]
  },
  {
   "cell_type": "markdown",
   "metadata": {},
   "source": [
    "## Predicting using a fitted and pipelined model"
   ]
  },
  {
   "cell_type": "markdown",
   "metadata": {},
   "source": [
    "Here is a new tumor."
   ]
  },
  {
   "cell_type": "code",
   "execution_count": null,
   "metadata": {
    "tags": []
   },
   "outputs": [],
   "source": [
    "new_obs = {'mean radius': [20.57],\n",
    "           'mean texture': [17.77],\n",
    "           'mean perimeter': [132.9],\n",
    "           'mean area': [1326.0],\n",
    "           'mean smoothness': [0.08474],\n",
    "           'mean compactness': [0.07864],\n",
    "           'mean concavity': [0.0869],\n",
    "           'mean concave points': [0.07017],\n",
    "           'mean symmetry': [0.1812],\n",
    "           'mean fractal dimension': [0.05667],\n",
    "           'radius error': [0.5435],\n",
    "           'texture error': [0.7339],\n",
    "           'perimeter error': [3.398],\n",
    "           'area error': [74.08],\n",
    "           'smoothness error': [0.005225],\n",
    "           'compactness error': [0.01308],\n",
    "           'concavity error': [0.0186],\n",
    "           'concave points error': [0.0134],\n",
    "           'symmetry error': [0.01389],\n",
    "           'fractal dimension error': [0.003532],\n",
    "           'worst radius': [24.99],\n",
    "           'worst texture': [23.41],\n",
    "           'worst perimeter': [158.8],\n",
    "           'worst area': [1956.0],\n",
    "           'worst smoothness': [0.1238],\n",
    "           'worst compactness': [0.1866],\n",
    "           'worst concavity': [0.2416],\n",
    "           'worst concave points': [0.186],\n",
    "           'worst symmetry': [0.275],\n",
    "           'worst fractal dimension': [0.08902]}"
   ]
  },
  {
   "cell_type": "markdown",
   "metadata": {},
   "source": [
    "❓ **>>>** Using your optimal pipeline, predict whether the new tumor is malignant or not. Display also the probabilities."
   ]
  },
  {
   "cell_type": "code",
   "execution_count": null,
   "metadata": {
    "tags": []
   },
   "outputs": [],
   "source": [
    "# Code here!\n"
   ]
  }
 ],
 "metadata": {
  "kernelspec": {
   "display_name": "Python 3 (ipykernel)",
   "language": "python",
   "name": "python3"
  },
  "language_info": {
   "codemirror_mode": {
    "name": "ipython",
    "version": 3
   },
   "file_extension": ".py",
   "mimetype": "text/x-python",
   "name": "python",
   "nbconvert_exporter": "python",
   "pygments_lexer": "ipython3",
   "version": "3.11.0"
  }
 },
 "nbformat": 4,
 "nbformat_minor": 4
}
