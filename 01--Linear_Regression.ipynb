{
 "cells": [
  {
   "cell_type": "markdown",
   "id": "e360a3c3-ca80-4e45-b5f1-7a6a5ce60fbf",
   "metadata": {
    "tags": []
   },
   "source": [
    "<div>\n",
    "<img src=\"files/machine_learning.jpg\" alt=\"ML\" width=\"100%\" align='center' source=\"https://www.50a.fr/img/upload/machine%20learning..jpg\" /> </div>"
   ]
  },
  {
   "cell_type": "markdown",
   "id": "b4cfa533-9fc1-4673-ac5d-9fe97a51ac4b",
   "metadata": {
    "tags": [
     "en"
    ]
   },
   "source": [
    "# Introduction\n",
    "\n",
    "Machine learning may seem intimidating with its jargon derived from the realms of computer science and statistics. However, if we start with the basics and progressively increase the complexity, it is entirely possible to grasp the fundamental concepts of this field.\n",
    "\n",
    "This course will provide you with an overview of how data scientists develop, design, and implement their ML models. You can then use this knowledge to continue learning on your own or stop now if you think you know enough to be able to talk with data scientists."
   ]
  },
  {
   "cell_type": "markdown",
   "id": "bcd7d0f0-b3a0-4ccd-807e-65d971db9c99",
   "metadata": {
    "tags": [
     "en"
    ]
   },
   "source": [
    "# Practical Case: Real Estate\n",
    "\n",
    "The first dataset we will use contains data on the real estate. In real life, real estate agents can estimate the value of a property by associating a price with various characteristics of the property (number of rooms, area, location, etc.) based on their experience.\n",
    "\n",
    "The program we are going to create will allow us to make predictions ourselves, i.e., to predict a given value. However, this time it's the computer that will \"learn\" on its own thanks to the data we will provide.\n",
    "\n",
    "## Linear Regression\n",
    "\n",
    "We will now use a model called \"Linear Regression\". This is a well-known model that you have probably used in the past, and its formula is:\n",
    "\n",
    "$f(x) = ax + b$\n",
    "\n",
    "Where $a$ is the slope coefficient, and $b$ is the intercept. Linear regressions are simple models that are easily explainable."
   ]
  },
  {
   "cell_type": "markdown",
   "id": "5235ae6d-e4f9-472e-a565-d2546258e25b",
   "metadata": {},
   "source": [
    "<div>\n",
    "<img src=\"files/linear_regression.svg\" alt=\"ML\" width=\"100%\" align='center' source=\"https://www.reneshbedre.com/blog/linear-regression.html\" /> </div>"
   ]
  },
  {
   "cell_type": "markdown",
   "id": "aecce1c7-d51d-4b8c-9334-926ecae6069a",
   "metadata": {
    "tags": [
     "en"
    ]
   },
   "source": [
    "# Exploration with Pandas"
   ]
  },
  {
   "cell_type": "markdown",
   "id": "3ecf9672-65be-4553-86c0-794fec68a164",
   "metadata": {
    "tags": []
   },
   "source": [
    "<div>\n",
    "<img src=\"files/pandas_school.png\" alt=\"CPU\" width=\"100%\" align='center' source='realpython.com'/> </div>"
   ]
  },
  {
   "cell_type": "code",
   "execution_count": null,
   "id": "9a6b382c-66bb-4912-b441-2e80516b6ac1",
   "metadata": {},
   "outputs": [],
   "source": [
    "import pandas as pd\n",
    "df = pd.read_csv(\"data/iowa_housing.csv\")"
   ]
  },
  {
   "cell_type": "code",
   "execution_count": null,
   "id": "3428a86a-cea4-4262-a22b-649db5ca18f6",
   "metadata": {},
   "outputs": [],
   "source": [
    "df.shape"
   ]
  },
  {
   "cell_type": "code",
   "execution_count": null,
   "id": "3e1fd721-593a-4432-a360-d90ef5f07de6",
   "metadata": {},
   "outputs": [],
   "source": [
    "df.columns"
   ]
  },
  {
   "cell_type": "markdown",
   "id": "920b04a6-68da-4bd1-a9e7-5b84bc98496e",
   "metadata": {
    "tags": [
     "en"
    ]
   },
   "source": [
    "## Missing values"
   ]
  },
  {
   "cell_type": "code",
   "execution_count": null,
   "id": "643ddd0f-a4b7-489d-bdd4-f86a00da3954",
   "metadata": {},
   "outputs": [],
   "source": [
    "df.isna()"
   ]
  },
  {
   "cell_type": "code",
   "execution_count": null,
   "id": "91d75276-8e67-42f0-b170-f4e13f0a11fb",
   "metadata": {},
   "outputs": [],
   "source": [
    "df.isna().sum()"
   ]
  },
  {
   "cell_type": "code",
   "execution_count": null,
   "id": "45d40140-002d-42e0-9392-7a66011bf94f",
   "metadata": {},
   "outputs": [],
   "source": [
    "df.isna().sum().loc[df.isna().sum() > 0]"
   ]
  },
  {
   "cell_type": "code",
   "execution_count": null,
   "id": "82ec27a8-0005-4420-b51c-0c0131ae6311",
   "metadata": {
    "tags": []
   },
   "outputs": [],
   "source": [
    "max(df.isna().sum())"
   ]
  },
  {
   "cell_type": "code",
   "execution_count": null,
   "id": "8550dbca-a62b-43d5-898f-8e5cd6efec9f",
   "metadata": {},
   "outputs": [],
   "source": [
    "max_col_len = len(max(df.columns, key=len)) # Just to make sure that the table...\n",
    "max_val_len = len(str(max(df.isna().sum(), key=lambda x : len(str(x))))) # ...displays nicely :)\n",
    "\n",
    "for i, num in zip(df.isna().sum().index, df.isna().sum()):\n",
    "    print(f'{i}{(max_col_len - len(i)) * \" \"} | Missing values : {num}{(max_val_len - len(str(num))) * \" \"} | Completion : {round(100 - (num / df.shape[0] * 100))}%') "
   ]
  },
  {
   "cell_type": "markdown",
   "id": "9c678370-1a5c-41c5-809c-4e66ba381229",
   "metadata": {
    "tags": [
     "en"
    ]
   },
   "source": [
    "# Statistics"
   ]
  },
  {
   "cell_type": "code",
   "execution_count": null,
   "id": "9bafbabd-28c8-406a-be5d-7db8a176e16b",
   "metadata": {},
   "outputs": [],
   "source": [
    "df['LotArea'].mean()"
   ]
  },
  {
   "cell_type": "code",
   "execution_count": null,
   "id": "3a596594-747f-4f76-b1f5-058eb8d65f91",
   "metadata": {},
   "outputs": [],
   "source": [
    "df['LotArea'].mean().round()"
   ]
  },
  {
   "cell_type": "code",
   "execution_count": null,
   "id": "faa21f55-4b50-4eca-a233-18fa857a93bd",
   "metadata": {},
   "outputs": [],
   "source": [
    "df['SalePrice'].mean()"
   ]
  },
  {
   "cell_type": "code",
   "execution_count": null,
   "id": "a1d62b92-a9a7-487e-aff8-d44dca528b39",
   "metadata": {},
   "outputs": [],
   "source": [
    "df['SalePrice'].mean().round()"
   ]
  },
  {
   "cell_type": "code",
   "execution_count": null,
   "id": "2a1e0c76-5716-461b-93f7-4a8cdba0683e",
   "metadata": {},
   "outputs": [],
   "source": [
    "df.describe(include='all')"
   ]
  },
  {
   "cell_type": "code",
   "execution_count": null,
   "id": "6d80f30e-0475-4911-af94-c420ead0755f",
   "metadata": {},
   "outputs": [],
   "source": [
    "df['YearBuilt'].max()"
   ]
  },
  {
   "cell_type": "code",
   "execution_count": null,
   "id": "a2e0e1af-1ade-4b26-8a35-d8e19ea5bea4",
   "metadata": {},
   "outputs": [],
   "source": [
    "df['YearBuilt'].min()"
   ]
  },
  {
   "cell_type": "code",
   "execution_count": null,
   "id": "495056aa-52a1-42a9-bb52-3f9b1008ad99",
   "metadata": {},
   "outputs": [],
   "source": [
    "df['YearBuilt'].describe()"
   ]
  },
  {
   "cell_type": "markdown",
   "id": "3af05700-f62c-45fd-b460-6a3117f0d03f",
   "metadata": {
    "tags": [
     "en"
    ]
   },
   "source": [
    "# Target Variable\n",
    "\n",
    "The **target variable**, also known as the response variable, dependent variable, the variable to predict, outcome variable or criterion variable is the variable we want to predict. It is represented by \"y\" (lower-case).\n",
    "\n",
    "In this case, it is the last column in our dataframe that contains the sale price of the real estate: `'SalePrice'`."
   ]
  },
  {
   "cell_type": "code",
   "execution_count": null,
   "id": "26d76d91-0700-4f4e-b92c-4bcdabfda5aa",
   "metadata": {},
   "outputs": [],
   "source": [
    "y = df['SalePrice']"
   ]
  },
  {
   "cell_type": "markdown",
   "id": "c27bb1a2-a6a5-49cc-bf21-0db53fc18256",
   "metadata": {
    "tags": [
     "en"
    ]
   },
   "source": [
    "# Explanatory Variables\n",
    "\n",
    "The explanatory variables, also known as predictor variables or \"features\", are the input variables of our model. It is through these variables that the model will determine the value of our output variable. They are represented by \"X\" (upper-case).\n",
    "\n",
    "The choice of these variables has a significant impact on the results. Sometimes, we will use all the available variables, while other times we will only use a subset of them. There are many different methods (logical, scientific, statistical, computational, etc.) to help us make this choice.\n",
    "\n",
    "Here, we will use only one variable as feature: ```GrLivArea``` (Above grade (ground) living area square feet)."
   ]
  },
  {
   "cell_type": "code",
   "execution_count": null,
   "id": "a8b7e400-d51f-4b15-98a5-255042d63d06",
   "metadata": {
    "tags": []
   },
   "outputs": [],
   "source": [
    "df['GrLivArea']"
   ]
  },
  {
   "cell_type": "code",
   "execution_count": null,
   "id": "3142c48f-1303-4fb6-881b-b175e4ece843",
   "metadata": {},
   "outputs": [],
   "source": [
    "X = df[['GrLivArea']] # double brackets because we want to create a DataFrame"
   ]
  },
  {
   "cell_type": "code",
   "execution_count": null,
   "id": "e7186128-aed9-4584-ba9b-667daec62a30",
   "metadata": {},
   "outputs": [],
   "source": [
    "X.describe()"
   ]
  },
  {
   "cell_type": "code",
   "execution_count": null,
   "id": "43744d58-5880-4058-bbae-407d8765cd30",
   "metadata": {},
   "outputs": [],
   "source": [
    "X.isna().sum()"
   ]
  },
  {
   "cell_type": "markdown",
   "id": "73a22399-5301-449d-a1b8-1191beb1a4c8",
   "metadata": {
    "tags": []
   },
   "source": [
    "## Scatter plot"
   ]
  },
  {
   "cell_type": "code",
   "execution_count": null,
   "id": "b3666a67-eaa8-4086-8d52-1ec71417835f",
   "metadata": {
    "tags": []
   },
   "outputs": [],
   "source": [
    "df.plot(kind='scatter', x='GrLivArea', y='SalePrice');"
   ]
  },
  {
   "cell_type": "markdown",
   "id": "792a9356-6b37-4a30-b5f1-3d898376fbac",
   "metadata": {
    "tags": [
     "en"
    ]
   },
   "source": [
    "# Modeling"
   ]
  },
  {
   "cell_type": "code",
   "execution_count": null,
   "id": "39125ad6-73f9-46e8-858a-329d7e50393a",
   "metadata": {},
   "outputs": [],
   "source": [
    "# Propre way to import functions in sklearn:\n",
    "from sklearn.linear_model import LinearRegression\n",
    "\n",
    "# Let's instanciate the class\n",
    "model = LinearRegression()"
   ]
  },
  {
   "cell_type": "markdown",
   "id": "4c5c5326-4487-4479-81b5-b25f598dd10f",
   "metadata": {
    "tags": [
     "en"
    ]
   },
   "source": [
    "### Model Fitting\n",
    "\n",
    "Model training is very simple: just one line of code is enough! By convention, we first provide the features and then the target."
   ]
  },
  {
   "cell_type": "code",
   "execution_count": null,
   "id": "3aed91b5-3bef-4c84-80d6-82e1dba76c52",
   "metadata": {},
   "outputs": [],
   "source": [
    "model.fit(X,y)"
   ]
  },
  {
   "cell_type": "code",
   "execution_count": null,
   "id": "d0a36cb2-154f-4e5b-a56c-4e1ada7c71a7",
   "metadata": {
    "tags": []
   },
   "outputs": [],
   "source": [
    "# Our 'a'\n",
    "model.coef_ # A property of the train model"
   ]
  },
  {
   "cell_type": "code",
   "execution_count": null,
   "id": "285f876d-bb04-4a3b-9be3-4c2da5ef07f9",
   "metadata": {
    "tags": []
   },
   "outputs": [],
   "source": [
    "# Our 'b'\n",
    "model.intercept_"
   ]
  },
  {
   "cell_type": "code",
   "execution_count": null,
   "id": "f49c08d5-491f-43df-acbc-572e36da4070",
   "metadata": {
    "tags": []
   },
   "outputs": [],
   "source": [
    "model.score(X, y) # R²"
   ]
  },
  {
   "cell_type": "markdown",
   "id": "af03f85f-5bf5-4df0-a03b-7a064934d792",
   "metadata": {
    "tags": [
     "en"
    ]
   },
   "source": [
    "## The $R^2$ Score\n",
    "\n",
    "The coefficient of determination, often referred to as $R^2$ (R-squared), is a statistical measure that represents the proportion of the variance in the dependent variable that is predictable from the independent variables. It ranges from 0 to 1, with higher values indicating a better fit of the model to the data.\n",
    "\n",
    "Mathematically, $R^2$ is calculated as:\n",
    "\n",
    "$R^2 = 1 - \\frac{{\\text{SSR}}}{{\\text{SST}}}$\n",
    "\n",
    "Where:\n",
    "- SSR (Sum of Squared Residuals) represents the sum of the squared differences between the predicted values and the actual values.\n",
    "- SST (Total Sum of Squares) represents the total sum of squared differences between the actual values and the mean of the dependent variable.\n",
    "\n",
    "Suppose we have the following data:\n",
    "\n",
    "- Actual values: [2, 4, 5, 4, 6]\n",
    "- Predicted values: [3, 3, 5, 4, 7]\n",
    "\n",
    "First, we calculate SSR, which is the sum of the squared differences between the predicted values and the actual values:\n",
    "\n",
    "$\\text{SSR} = (3-2)^2 + (3-4)^2 + (5-5)^2 + (4-4)^2 + (7-6)^2$\n",
    "$\\text{SSR} = 1 + 1 + 0 + 0 + 1 = 3$\n",
    "\n",
    "Next, we calculate SST, which is the sum of the squared differences between the actual values and the mean of the dependent variable:\n",
    "\n",
    "$\\text{Mean of dependent variable} = \\frac{2 + 4 + 5 + 4 + 6}{5} = \\frac{21}{5} = 4.2$\n",
    "\n",
    "$\\text{SST} = (2-4.2)^2 + (4-4.2)^2 + (5-4.2)^2 + (4-4.2)^2 + (6-4.2)^2$\n",
    "$\\text{SST} = 4.84 + 0.04 + 0.64 + 0.04 + 4.84 = 14.4$\n",
    "\n",
    "Now, we can calculate $R^2$:\n",
    "\n",
    "$R^2 = 1 - \\frac{{\\text{SSR}}}{{\\text{SST}}} = 1 - \\frac{3}{14.4} \\approx 0.792$\n",
    "\n",
    "So, in this example, the $R^2$ score is approximately 0.792, indicating that about 79.2% of the variance in the dependent variable is explained by the independent variables in the model."
   ]
  },
  {
   "cell_type": "markdown",
   "id": "8028f0b7-66ed-4178-aeb9-e69261906aad",
   "metadata": {
    "tags": [
     "en"
    ]
   },
   "source": [
    "### Predictions\n",
    "\n",
    "Our model can now predict values based on a one variable."
   ]
  },
  {
   "cell_type": "code",
   "execution_count": null,
   "id": "c7881002-d333-4700-9807-588c1ea9a527",
   "metadata": {},
   "outputs": [],
   "source": [
    "# We can pass only one value and check the output\n",
    "model.predict(pd.DataFrame({'GrLivArea': [1000]}))"
   ]
  },
  {
   "cell_type": "code",
   "execution_count": null,
   "id": "0e5f4c1f-8bfc-4330-9e75-ec568af145b8",
   "metadata": {
    "tags": []
   },
   "outputs": [],
   "source": [
    "# Or we can make predictions for all the houses in our dataset\n",
    "y_pred = model.predict(X)"
   ]
  },
  {
   "cell_type": "code",
   "execution_count": null,
   "id": "2a1634f5-cc22-4fd5-8cd5-d620d41dad13",
   "metadata": {
    "tags": []
   },
   "outputs": [],
   "source": [
    "y_pred"
   ]
  },
  {
   "cell_type": "markdown",
   "id": "2357afdb-c94b-4ccf-aef8-f67f423e81ed",
   "metadata": {},
   "source": [
    "## Visualisation"
   ]
  },
  {
   "cell_type": "code",
   "execution_count": null,
   "id": "44046eba-2dbd-4cf9-81ba-4091b7b6b20d",
   "metadata": {
    "tags": []
   },
   "outputs": [],
   "source": [
    "import matplotlib.pyplot as plt\n",
    "\n",
    "plt.scatter(X, y,color='b')\n",
    "plt.scatter(X, y_pred,color='r');\n",
    "#plt.plot(X, y_pred,color='r'); # Or with a line"
   ]
  },
  {
   "cell_type": "code",
   "execution_count": null,
   "id": "bf15bfec-371f-4007-bbb7-9ee2ad978b7c",
   "metadata": {},
   "outputs": [],
   "source": [
    "# We can check for each prediction how off we are\n",
    "res = pd.DataFrame({'y':y,'y_pred':y_pred})\n",
    "res['y_pred'] = res['y_pred'].astype(int)\n",
    "res['diff'] = res['y'] - res['y_pred'].round()\n",
    "res"
   ]
  },
  {
   "cell_type": "markdown",
   "id": "8f3773c9-9281-42d4-85f0-9e43689f1a75",
   "metadata": {
    "tags": [
     "en"
    ]
   },
   "source": [
    "## Conclusion\n",
    "\n",
    "So far what we've done is a very simple way of doing Machine Learning. We fed an algorithm with data and we got a fitted model that can predict new values.\n",
    "\n",
    "You'll see in the next chapters that our journey has just started."
   ]
  }
 ],
 "metadata": {
  "kernelspec": {
   "display_name": "Python 3 (ipykernel)",
   "language": "python",
   "name": "python3"
  },
  "language_info": {
   "codemirror_mode": {
    "name": "ipython",
    "version": 3
   },
   "file_extension": ".py",
   "mimetype": "text/x-python",
   "name": "python",
   "nbconvert_exporter": "python",
   "pygments_lexer": "ipython3",
   "version": "3.11.0"
  }
 },
 "nbformat": 4,
 "nbformat_minor": 5
}
