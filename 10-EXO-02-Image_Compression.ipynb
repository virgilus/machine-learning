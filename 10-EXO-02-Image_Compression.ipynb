{
 "cells": [
  {
   "cell_type": "markdown",
   "metadata": {},
   "source": [
    "# Image Compression"
   ]
  },
  {
   "cell_type": "markdown",
   "metadata": {},
   "source": [
    "In this challenge we will use **images** as data. We will use **K-means** for image compression, by reducing the colors in an image to only the most frequent ones."
   ]
  },
  {
   "cell_type": "markdown",
   "metadata": {},
   "source": [
    "## Images with Python"
   ]
  },
  {
   "cell_type": "markdown",
   "metadata": {},
   "source": [
    "This section should give you some understanding of how we deal with images in Python."
   ]
  },
  {
   "cell_type": "markdown",
   "metadata": {},
   "source": [
    "### Black & white images"
   ]
  },
  {
   "cell_type": "markdown",
   "metadata": {},
   "source": [
    "An image can be described as a matrix where each element is a pixel.  \n",
    "\n",
    "The scale of colors is between 0 (black) and 255 (white).  \n",
    "\n",
    "Thus, each element in the matrix will have a value between 0 and 255."
   ]
  },
  {
   "cell_type": "markdown",
   "metadata": {},
   "source": [
    "When dealing with matrix, `numpy` is always a good choice!  \n",
    "\n",
    "Execute the cell below to see a black and white image created only with `numpy`."
   ]
  },
  {
   "cell_type": "markdown",
   "metadata": {},
   "source": [
    "<img src=\"https://miro.medium.com/max/1386/1*bV7S0zACdidh11ikjYpLpQ.png\">"
   ]
  },
  {
   "cell_type": "code",
   "execution_count": null,
   "metadata": {
    "tags": []
   },
   "outputs": [],
   "source": [
    "import matplotlib.pyplot as plt\n",
    "import numpy as np\n",
    "import pandas as pd"
   ]
  },
  {
   "cell_type": "code",
   "execution_count": null,
   "metadata": {
    "tags": []
   },
   "outputs": [],
   "source": [
    "# Let's create  a vector of 100 elements with a value between 0 and 255\n",
    "image_bw = np.random.uniform(low=0, high=255, size=100)\n",
    "\n",
    "# Reshape it into a squared matrix, we have an image of 10x10 pixels\n",
    "image_bw = image_bw.reshape((10, 10))\n",
    "\n",
    "# Finally display the generated image\n",
    "plt.imshow(image_bw, cmap='gray');"
   ]
  },
  {
   "cell_type": "markdown",
   "metadata": {},
   "source": [
    "### Colored images :"
   ]
  },
  {
   "cell_type": "markdown",
   "metadata": {},
   "source": [
    "Every color is a linear combination of primary colors : Red, Green, Blue  \n",
    "\n",
    "A colored image is just the overlay of three layers, one for each primary color.  \n",
    "\n",
    "So for each pixel, we have three values (Red, Green, Blue)."
   ]
  },
  {
   "cell_type": "markdown",
   "metadata": {},
   "source": [
    "<div>\n",
    "<img src=\"files/color_channels_rgb.jpg\" width=\"50%\" align='center' source=\"https://www.missnumerique.com/blog/le-canal-alpha-en-video-quest-ce-que-cest/\" />\n",
    "</div>"
   ]
  },
  {
   "cell_type": "markdown",
   "metadata": {},
   "source": [
    "Again, execute the cells below to see a colored image created only with `numpy`."
   ]
  },
  {
   "cell_type": "code",
   "execution_count": null,
   "metadata": {
    "tags": []
   },
   "outputs": [],
   "source": [
    "# Let's create vector of 100*3 elements with a value between 0 and 1\n",
    "image_c = np.random.uniform(low=0., high=1., size=100*3)\n",
    "\n",
    "# Reshape it into a squared image of 10x10 pixels with 3 colors\n",
    "image_c = image_c.reshape((10, 10, 3))\n",
    "\n",
    "# Finally display the generated image\n",
    "plt.imshow(image_c);"
   ]
  },
  {
   "cell_type": "code",
   "execution_count": null,
   "metadata": {
    "tags": []
   },
   "outputs": [],
   "source": [
    "# To get some intuition, let's plot each color layer\n",
    "fig, axs = plt.subplots(1, 3, figsize=(8, 6))\n",
    "colors = {0:'Reds', 1:'Greens', 2:'Blues'}\n",
    "\n",
    "for i in colors:\n",
    "    axs[i].imshow(image_c[:, :, i], cmap=colors[i])\n",
    "    axs[i].set_title(colors[i])"
   ]
  },
  {
   "cell_type": "markdown",
   "metadata": {},
   "source": [
    "## Images for ML"
   ]
  },
  {
   "cell_type": "markdown",
   "metadata": {},
   "source": [
    "### Setup"
   ]
  },
  {
   "cell_type": "markdown",
   "metadata": {},
   "source": [
    "Install the `skimage` library, it will give us access to classic images. It's better to do it inside a terminal rather than installing libraries in a notebook."
   ]
  },
  {
   "cell_type": "raw",
   "metadata": {},
   "source": [
    "# The cell is in raw mode.\n",
    "! pip install scikit-image"
   ]
  },
  {
   "cell_type": "code",
   "execution_count": null,
   "metadata": {
    "tags": []
   },
   "outputs": [],
   "source": [
    "from skimage import data\n",
    "img = data.astronaut()\n",
    "plt.imshow(img);"
   ]
  },
  {
   "cell_type": "markdown",
   "metadata": {},
   "source": [
    "❓ **>>>** What is the shape of this image?"
   ]
  },
  {
   "cell_type": "code",
   "execution_count": null,
   "metadata": {
    "tags": []
   },
   "outputs": [],
   "source": [
    "# Code here!\n"
   ]
  },
  {
   "cell_type": "markdown",
   "metadata": {},
   "source": [
    "### Number of colors"
   ]
  },
  {
   "cell_type": "markdown",
   "metadata": {},
   "source": [
    "To make our image ready for compression, or ML in general, we need to represent it as **observations** and **features**.  \n",
    "\n",
    "Each **pixel** is an **observation**  \n",
    "Each **color value (Red, Green, Blue)** is a **feature**  \n",
    "\n",
    "In our image, we have **262,144 observations** (512 * 512 pixels) and **3 features** (RGB)"
   ]
  },
  {
   "cell_type": "markdown",
   "metadata": {},
   "source": [
    "❓ **>>>** Reshape the image:  \n",
    "- From its current size of `width * height * 3`\n",
    "- To a matrix  of size `N * 3` where `N = width * height`  \n",
    "\n",
    "Assign the reshaped image to `X`.\n",
    "\n",
    "**Hint**: using the method ```.reshape()``` with the array seems natural."
   ]
  },
  {
   "cell_type": "code",
   "execution_count": null,
   "metadata": {
    "tags": []
   },
   "outputs": [],
   "source": [
    "# Code here!\n"
   ]
  },
  {
   "cell_type": "markdown",
   "metadata": {},
   "source": [
    "A colored image may contain up to 16 Millions potential colors.  \n",
    "\n",
    "Indeed, for each pixel we have **3** channels, and for each channel we have **256** possible values (from 0 to 255).\n",
    "Hence a potential maximum of **16,777,216** *($256^3$)* colors in a colored image.\n",
    "\n",
    "Since our image is only 262,144 pixels (512 * 512), it uses at most 262,144 colors, as each pixel contains a single color defined by the three channels' values\n",
    "\n",
    "Let's count!\n",
    "\n",
    "❓ **>>>** Find the number of unique colors in this picture."
   ]
  },
  {
   "cell_type": "code",
   "execution_count": null,
   "metadata": {
    "tags": []
   },
   "outputs": [],
   "source": [
    "# Code here!\n"
   ]
  },
  {
   "cell_type": "markdown",
   "metadata": {},
   "source": [
    "Let's break down what we have: \n",
    "- 262,144 observations, each observation is a pixel.\n",
    "- 3 features (Red, Green & Blue values) for each observation.\n",
    "- An unknown number of clusters!\n",
    "\n",
    "**Let's see what we can do to reduce the number of colors**"
   ]
  },
  {
   "cell_type": "markdown",
   "metadata": {},
   "source": [
    "## Compression with K-means"
   ]
  },
  {
   "cell_type": "markdown",
   "metadata": {},
   "source": [
    "We want to reduce the **113,382** colors to **K** colors.  \n",
    "\n",
    "Using a `KMeans` algorithm over the pixels, we can assign each pixel to one of **K** clusters!  \n",
    "\n",
    "The center of each cluster is going to be the average color of the pixels that belong to it. \n",
    "\n",
    "We can then use this \"mean cluster color\" as the RGB values for each pixel in the cluster.  \n",
    "\n",
    "Our objective is to use only **32** colors!"
   ]
  },
  {
   "cell_type": "markdown",
   "metadata": {},
   "source": [
    "❓ **>>>** Fit a K-means with ```n_clusters=32``` and ```random_state=42``` on your ML-ready image ```X```, and assign it to ```kmeans```."
   ]
  },
  {
   "cell_type": "code",
   "execution_count": null,
   "metadata": {
    "tags": []
   },
   "outputs": [],
   "source": [
    "# Code here!\n"
   ]
  },
  {
   "cell_type": "markdown",
   "metadata": {},
   "source": [
    "Check the `labels_` of your `kmeans`, then check their `shape` and `number of unique values`. What do all these information mean?"
   ]
  },
  {
   "cell_type": "code",
   "execution_count": null,
   "metadata": {
    "tags": []
   },
   "outputs": [],
   "source": [
    "# Code here!\n"
   ]
  },
  {
   "cell_type": "markdown",
   "metadata": {},
   "source": [
    "Let's break it down:\n",
    "\n",
    "- Each label is a cluster.\n",
    "- There is one label assigned to each observations.\n",
    "- There are a total of 32 different labels, one for each cluster."
   ]
  },
  {
   "cell_type": "markdown",
   "metadata": {},
   "source": [
    "❓ **>>>** Let's take a look at the `cluster_centers_` of your `KMeans`, especially the shape and first element of this property."
   ]
  },
  {
   "cell_type": "markdown",
   "metadata": {},
   "source": [
    "Each cluster_center is a vector of RGB values, it represents the mean color of the cluster."
   ]
  },
  {
   "cell_type": "markdown",
   "metadata": {},
   "source": [
    "❓ **>>>** Create an array `X_compressed`, which stores for each pixel picture the mean color of its corresponding cluster.\n",
    "\n",
    "For example, if the first pixel in X (```X[0]```) has been assigned to the cluster ```8``` in ```kmeans.labels_```, then we want its value which was array ```[154, 147, 151]``` to be replaced by the value of the center of its cluster which is ```[151.23777276, 141.39909707, 140.88924003]``` as we can see if we take a look at ```kmeans.cluster_centers_```.\n",
    "\n",
    "You can achieve this by using only ```kmeans.cluster_centers_``` and ```kmeans.labels_```. There are many different ways to achieve this.\n",
    "\n",
    "**Hint** : Make sure the shape of ```X_compressed``` is be (262144, 3)."
   ]
  },
  {
   "cell_type": "code",
   "execution_count": null,
   "metadata": {
    "tags": []
   },
   "outputs": [],
   "source": [
    "# Code here!\n"
   ]
  },
  {
   "cell_type": "markdown",
   "metadata": {},
   "source": [
    "RGB values must be integer.  \n",
    "\n",
    "Our colors in `X_compressed` are in `float64`.  \n",
    "\n",
    "❓ **>>>** Convert `X_compressed` to `uint8`, the unsigned 8-bits integer type which lies between 0 and 255. No need to think here, it's just syntax."
   ]
  },
  {
   "cell_type": "code",
   "execution_count": null,
   "metadata": {
    "tags": []
   },
   "outputs": [],
   "source": [
    "# Code here!\n"
   ]
  },
  {
   "cell_type": "markdown",
   "metadata": {},
   "source": [
    "❓ **>>>** Verify that the number of unique colors used is indeed 32."
   ]
  },
  {
   "cell_type": "code",
   "execution_count": null,
   "metadata": {
    "tags": []
   },
   "outputs": [],
   "source": [
    "# Code here!\n",
    "\n"
   ]
  },
  {
   "cell_type": "markdown",
   "metadata": {},
   "source": [
    "## Plot compressed image"
   ]
  },
  {
   "cell_type": "markdown",
   "metadata": {},
   "source": [
    "Our `X_compressed` has shape (262144, 3), we can't display it as an image.\n",
    "\n",
    "❓ **>>>** Reshape your compressed image and plot it side by side with your original image.  \n",
    "\n",
    "**Hint**: You need to reshape your flattened `X_compressed` into the right dimensions for an image and your original image has such dimensions."
   ]
  },
  {
   "cell_type": "code",
   "execution_count": null,
   "metadata": {
    "tags": []
   },
   "outputs": [],
   "source": [
    "# Code here!\n"
   ]
  },
  {
   "cell_type": "markdown",
   "metadata": {},
   "source": [
    "### Plotting the 2 images side by side"
   ]
  },
  {
   "cell_type": "code",
   "execution_count": null,
   "metadata": {
    "tags": []
   },
   "outputs": [],
   "source": [
    "# Plot the original and the compressed image.\n",
    "fig, ax = plt.subplots(1, 2, figsize = (7, 7))\n",
    "ax[0].imshow(img)\n",
    "ax[0].set_title('Original Image')\n",
    "ax[0].axis('off')\n",
    "\n",
    "ax[1].imshow(img_compressed)\n",
    "ax[1].set_title('Compressed Image')\n",
    "ax[1].axis('off')\n",
    "\n",
    "plt.tight_layout()"
   ]
  },
  {
   "cell_type": "markdown",
   "metadata": {},
   "source": [
    "Some colors are lost, but your can easily recognize the original image."
   ]
  },
  {
   "cell_type": "markdown",
   "metadata": {},
   "source": [
    "## Bonus : the elbow method\n",
    "\n",
    "We can try to use the Elbow method to find the optimal compression that loses the least color information.   \n",
    "\n",
    "Try to plot the `inertia` for `n_clusters` in the list [5, 10, 20, 30, 50, 70, 100] for instance  \n",
    "\n",
    "**Watch out**, it might take several minutes."
   ]
  },
  {
   "cell_type": "code",
   "execution_count": null,
   "metadata": {
    "tags": []
   },
   "outputs": [],
   "source": [
    "# Code here!\n"
   ]
  },
  {
   "cell_type": "markdown",
   "metadata": {},
   "source": [
    "Run the cell below to visualize your compressed image using different number of clusters  \n",
    "This is a long training, you will wait a few minutes."
   ]
  },
  {
   "cell_type": "code",
   "execution_count": null,
   "metadata": {
    "tags": []
   },
   "outputs": [],
   "source": [
    "wcss = []\n",
    "compressed_astronaut = []\n",
    "for i in [1, 2, 5, 10, 20, 30, 50, 70, 100]:\n",
    "    print('working with ' + str(i) + ' clusters...')\n",
    "    kmeans = KMeans(n_clusters=i)\n",
    "    kmeans.fit(X)\n",
    "    \n",
    "    # compute inertia\n",
    "    wcss.append(kmeans.inertia_)\n",
    "    \n",
    "    # compute compressed astronaut\n",
    "    labels = kmeans.labels_\n",
    "    centers = kmeans.cluster_centers_\n",
    "    X_compressed = centers[labels]\n",
    "    X_compressed = X_compressed.astype('uint8')\n",
    "    # img_compressed = X_compressed.reshape(img_shape[0], img_shape[1], img_shape[2])\n",
    "    img_compressed = X_compressed.reshape(img_shape)\n",
    "    compressed_astronaut.append(img_compressed)\n",
    "    \n",
    "    # printing\n",
    "    print(\"-\"*120)\n",
    "    print(f\"If we compress our 113382 unique colors into {i} clusters...\")\n",
    "    print(f\"The Kmeans inertia is equal to {kmeans.inertia_}\")\n",
    "    \n",
    "    # Plotting\n",
    "    fig, ax = plt.subplots(1, 2, figsize = (7, 7))\n",
    "    ax[0].imshow(img)\n",
    "    ax[0].set_title('Original Image')\n",
    "    ax[0].axis('off')\n",
    "    \n",
    "    ax[1].imshow(img_compressed)\n",
    "    ax[1].set_title('Compressed Image')\n",
    "    ax[1].axis('off')\n",
    "\n",
    "    plt.tight_layout()\n",
    "    plt.show()"
   ]
  }
 ],
 "metadata": {
  "kernelspec": {
   "display_name": "Python 3 (ipykernel)",
   "language": "python",
   "name": "python3"
  },
  "language_info": {
   "codemirror_mode": {
    "name": "ipython",
    "version": 3
   },
   "file_extension": ".py",
   "mimetype": "text/x-python",
   "name": "python",
   "nbconvert_exporter": "python",
   "pygments_lexer": "ipython3",
   "version": "3.11.0"
  }
 },
 "nbformat": 4,
 "nbformat_minor": 4
}
