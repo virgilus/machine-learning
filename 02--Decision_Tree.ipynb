{
 "cells": [
  {
   "cell_type": "markdown",
   "id": "e360a3c3-ca80-4e45-b5f1-7a6a5ce60fbf",
   "metadata": {
    "tags": [
     "en"
    ]
   },
   "source": [
    "# Decision trees\n",
    "\n",
    "In the previous chapter, we created a predictive model based on linear regression. But is it possible to use another model?\n",
    "\n",
    "The answer is yes, there are hundreds of models to choose from inside the *scikitlearn* library. Let's try a model called \"decision tree\", these are very intuitive models, easy to understand and analyze, which can be useful in many cases."
   ]
  },
  {
   "cell_type": "markdown",
   "id": "5235ae6d-e4f9-472e-a565-d2546258e25b",
   "metadata": {},
   "source": [
    "<div>\n",
    "<img src=\"files/decision_tree_1.png\" alt=\"CPU\" width=\"50%\" align='center'/> </div>"
   ]
  },
  {
   "cell_type": "markdown",
   "id": "441e0641-3606-4922-828b-6a9f3cd2eb4c",
   "metadata": {
    "tags": [
     "en"
    ]
   },
   "source": [
    "This model divides houses into two categories: those with 2 bedrooms or less and those with more than 2 bedrooms, and then it displays the average price of each group.\n",
    "\n",
    "The model uses the dataset to decide how to allocate houses into these two groups, and then again to predict the price within each group. The step of setting a model's parameters from data is called training or fitting. The data used to set up this model is called training data.\n",
    "\n",
    "The details of how the model is trained (e.g., how to split the data) are quite complex, and we will not discuss this topic in these notebooks. Once the model is fitted, we can apply it to new data to predict the price of a home.\n",
    "\n",
    "We can consider more factors by using a tree with more \"splits,\" meaning it is \"deeper.\"\n",
    "A decision tree that also takes into account the size of each house's land might look like this."
   ]
  },
  {
   "cell_type": "markdown",
   "id": "8a6c028f-67d7-4e09-a1a4-c2b3ea3a1d9c",
   "metadata": {},
   "source": [
    "<div>\n",
    "<img src=\"files/decision_tree_2.png\" alt=\"CPU\" width=\"60%\" align='center'/> </div>"
   ]
  },
  {
   "cell_type": "markdown",
   "id": "acd63fc8-3337-45a1-a4a6-ab1b9ba84106",
   "metadata": {
    "tags": [
     "en"
    ]
   },
   "source": [
    "To predict the price of a house, we go through the decision tree, always choosing the path that corresponds to the features of that house. The predicted price for the house is found at the bottom of the tree, and this point is called a leaf."
   ]
  },
  {
   "cell_type": "markdown",
   "id": "ab32871e-42dc-4481-8655-78b12c7bae2f",
   "metadata": {
    "tags": []
   },
   "source": [
    "<div>\n",
    "<img src=\"files/classifier_tree_meme.webp\" alt=\"CPU\" width=\"50%\" align='center' /> </div>"
   ]
  },
  {
   "cell_type": "code",
   "execution_count": null,
   "id": "9a6b382c-66bb-4912-b441-2e80516b6ac1",
   "metadata": {},
   "outputs": [],
   "source": [
    "import pandas as pd\n",
    "df = pd.read_csv(\"data/iowa_housing.csv\")\n",
    "df.shape"
   ]
  },
  {
   "cell_type": "code",
   "execution_count": null,
   "id": "3428a86a-cea4-4262-a22b-649db5ca18f6",
   "metadata": {},
   "outputs": [],
   "source": [
    "df.head(2)"
   ]
  },
  {
   "cell_type": "markdown",
   "id": "c27bb1a2-a6a5-49cc-bf21-0db53fc18256",
   "metadata": {
    "tags": [
     "en"
    ]
   },
   "source": [
    "# Multiple Explanatory Variables\n",
    "\n",
    "Last time we ony used one feature. This time, let's try to build our models using several features."
   ]
  },
  {
   "cell_type": "code",
   "execution_count": null,
   "id": "700a8aa4-5b14-4025-b342-e6c348b448e4",
   "metadata": {},
   "outputs": [],
   "source": [
    "feature_names = [\n",
    "'LotArea', # Total lot area of a property, measured in square feet.\n",
    "'YearBuilt', # Year when the house was constructed or built.\n",
    "'1stFlrSF', # Total square footage of the first (ground) floor of the house.\n",
    "'2ndFlrSF', # Total square footage of the second floor of the house.\n",
    "'BedroomAbvGr', # Number of bedrooms located above the ground level.\n",
    "'TotRmsAbvGrd', # Total number of rooms (excluding bathrooms) above ground level.\n",
    "'GrLivArea', # Above ground living area (square feet)\n",
    "]"
   ]
  },
  {
   "cell_type": "code",
   "execution_count": null,
   "id": "3142c48f-1303-4fb6-881b-b175e4ece843",
   "metadata": {},
   "outputs": [],
   "source": [
    "X = df[feature_names]\n",
    "y = df['SalePrice'] # Same as before"
   ]
  },
  {
   "cell_type": "markdown",
   "id": "792a9356-6b37-4a30-b5f1-3d898376fbac",
   "metadata": {
    "tags": [
     "en"
    ]
   },
   "source": [
    "# Modeling\n",
    "\n",
    "### Model Selection\n",
    "\n",
    "We will choose a \"decision tree,\" also known as *DecisionTreeRegressor*, which we will name 'model'."
   ]
  },
  {
   "cell_type": "code",
   "execution_count": null,
   "id": "39125ad6-73f9-46e8-858a-329d7e50393a",
   "metadata": {},
   "outputs": [],
   "source": [
    "from sklearn.tree import DecisionTreeRegressor\n",
    "\n",
    "# random_state will allow model reproducibility\n",
    "model = DecisionTreeRegressor(random_state=42)"
   ]
  },
  {
   "cell_type": "markdown",
   "id": "4c5c5326-4487-4479-81b5-b25f598dd10f",
   "metadata": {
    "tags": [
     "en"
    ]
   },
   "source": [
    "### Model Fitting"
   ]
  },
  {
   "cell_type": "code",
   "execution_count": null,
   "id": "3aed91b5-3bef-4c84-80d6-82e1dba76c52",
   "metadata": {},
   "outputs": [],
   "source": [
    "model.fit(X,y)"
   ]
  },
  {
   "cell_type": "markdown",
   "id": "5c6873e5-34bd-40f1-849a-bb4d56a1a230",
   "metadata": {
    "tags": [
     "en"
    ]
   },
   "source": [
    "### Visualization\n",
    "\n",
    "Once our model is created, we can visualize it in various ways."
   ]
  },
  {
   "cell_type": "code",
   "execution_count": null,
   "id": "efa0bcbe-cb76-4e37-83b4-e7835d7da320",
   "metadata": {},
   "outputs": [],
   "source": [
    "from sklearn import tree\n",
    "# print(tree.export_text(model))"
   ]
  },
  {
   "cell_type": "code",
   "execution_count": null,
   "id": "6adbdc5b-4b71-4df0-a6e5-6c4bb3f3b58b",
   "metadata": {},
   "outputs": [],
   "source": [
    "import matplotlib.pyplot as plt\n",
    "fig = plt.figure(figsize=(25,20))\n",
    "tree.plot_tree(model,\n",
    "               feature_names=X.columns,\n",
    "               max_depth=2,\n",
    "               filled=True)\n",
    "\n",
    "plt.show()"
   ]
  },
  {
   "cell_type": "markdown",
   "id": "8028f0b7-66ed-4178-aeb9-e69261906aad",
   "metadata": {
    "tags": [
     "en"
    ]
   },
   "source": [
    "### Predictions"
   ]
  },
  {
   "cell_type": "code",
   "execution_count": null,
   "id": "c7881002-d333-4700-9807-588c1ea9a527",
   "metadata": {},
   "outputs": [],
   "source": [
    "y_pred = model.predict(X)\n",
    "print(y_pred)"
   ]
  },
  {
   "cell_type": "markdown",
   "id": "8d67caef-6126-41e4-a37d-e0efb38a3c6d",
   "metadata": {
    "tags": [
     "en"
    ]
   },
   "source": [
    "Let's compare the first 5 predictions with the first 5 values of y."
   ]
  },
  {
   "cell_type": "code",
   "execution_count": null,
   "id": "2d7636eb-8482-4b24-b06e-bd8f35b2abbd",
   "metadata": {},
   "outputs": [],
   "source": [
    "list(y_pred[:5])"
   ]
  },
  {
   "cell_type": "code",
   "execution_count": null,
   "id": "12fc7247-200d-4301-98f3-330e0ddd8765",
   "metadata": {},
   "outputs": [],
   "source": [
    "list(y[:5])"
   ]
  },
  {
   "cell_type": "markdown",
   "id": "c75989df-b260-4ce2-8fa7-fa0c5c5cc621",
   "metadata": {
    "tags": [
     "en"
    ]
   },
   "source": [
    "It's strange, we would expect our model to be a bit off, but it seems like it's predicting our variable y down to the dollar! Let's verify this with some Pandas."
   ]
  },
  {
   "cell_type": "code",
   "execution_count": null,
   "id": "bf15bfec-371f-4007-bbb7-9ee2ad978b7c",
   "metadata": {},
   "outputs": [],
   "source": [
    "res = pd.DataFrame({'y':y,'y_pred':y_pred})\n",
    "res['y_pred'] = res['y_pred'].astype(int)\n",
    "res['diff'] = res['y'] - res['y_pred'].round()\n",
    "res"
   ]
  },
  {
   "cell_type": "code",
   "execution_count": null,
   "id": "d7c2fb8e-3717-454e-90e2-9384f57b13fd",
   "metadata": {},
   "outputs": [],
   "source": [
    "res.loc[res['diff'] != 0]"
   ]
  },
  {
   "cell_type": "markdown",
   "id": "989f9270-9438-4eab-86ff-57919cf7a3b9",
   "metadata": {
    "tags": [
     "en"
    ]
   },
   "source": [
    "Out of the 1760 predictions made, only 26 are incorrect, and even those are not very far from the expected results. Have we created the best possible model?"
   ]
  },
  {
   "cell_type": "markdown",
   "id": "c6315b8e-17d1-4418-b793-ebf61f669229",
   "metadata": {
    "tags": [
     "en"
    ]
   },
   "source": [
    "# Model Validation\n",
    "\n",
    "Each model, once trained, must be evaluated using different metrics.\n",
    "\n",
    "## MAE (*Mean Absolute Error*)\n",
    "\n",
    "The MAE (*Mean Absolute Error*) is a good metric for evaluating how good is a prediction of a continuous value. For each property, we will calculate the absolute difference between the actual value and the value predicted by the model:\n",
    "\n",
    "```\n",
    "error = |actual value - predicted value|\n",
    "```\n",
    "\n",
    "If we then take the average of these values, it gives us the MAE (Mean Absolute Error). The MAE tells us what the average difference is between a prediction and the actual value.\n",
    "\n",
    "One of its advantages is that it is expressed in the same unit as our prediction, here in dollars ($), which is useful for making comparisons."
   ]
  },
  {
   "cell_type": "markdown",
   "id": "30da2fe9-4c55-4ab8-89a4-24861f6171f2",
   "metadata": {
    "tags": []
   },
   "source": [
    "<div>\n",
    "<img src=\"files/mae_formula.svg\" alt=\"MAE\" width=\"50%\" align='center'/> </div>"
   ]
  },
  {
   "cell_type": "code",
   "execution_count": null,
   "id": "6d8eb50d-a930-4449-b8f8-ddf499b7fd75",
   "metadata": {},
   "outputs": [],
   "source": [
    "from sklearn.metrics import mean_absolute_error\n",
    "\n",
    "mean_absolute_error(y, y_pred) # Too good to be true?"
   ]
  },
  {
   "cell_type": "code",
   "execution_count": null,
   "id": "b88abbc3-9b71-430d-941a-625ba2a79257",
   "metadata": {
    "tags": []
   },
   "outputs": [],
   "source": [
    "model.score(X, y) # R²"
   ]
  },
  {
   "cell_type": "markdown",
   "id": "8dde859a-51e1-4f75-bf43-e5ccaee0f87d",
   "metadata": {
    "tags": [
     "en"
    ]
   },
   "source": [
    "**What did we do wrong?**"
   ]
  },
  {
   "cell_type": "markdown",
   "id": "4a499829-258a-4d5d-81bb-a12086cd75d2",
   "metadata": {
    "tags": [
     "en"
    ]
   },
   "source": [
    "# Let's go deeper"
   ]
  },
  {
   "cell_type": "markdown",
   "id": "cc0d5e0a-3542-4d8d-9918-d6a609be5728",
   "metadata": {
    "tags": [
     "en"
    ]
   },
   "source": [
    "### A little trick : column selection based on the rate of missing values\n",
    "\n",
    "Applying `df.dropna()` to all columns would delete all rows in our dataframe. However, we can choose to eliminate all columns with a completion rate lower than 94% (for example), which allows us to retain at least 94% of our dataset."
   ]
  },
  {
   "cell_type": "code",
   "execution_count": null,
   "id": "1ae71787-0c87-4d73-93b4-2338055cfd8e",
   "metadata": {},
   "outputs": [],
   "source": [
    "# Example 1\n",
    "(df['garagetype'].isna().sum() / df.shape[0]) < 0.06"
   ]
  },
  {
   "cell_type": "code",
   "execution_count": null,
   "id": "e57ebcc5-dba5-4f7e-bd2c-38de57235048",
   "metadata": {},
   "outputs": [],
   "source": [
    "# Example 2\n",
    "(df['miscfeature'].isna().sum() / df.shape[0]) < 0.06"
   ]
  },
  {
   "cell_type": "code",
   "execution_count": null,
   "id": "7872bcba-110b-4379-8be2-f0a1a2e7f645",
   "metadata": {},
   "outputs": [],
   "source": [
    "cols_to_keep = [col for col in df.columns if (df[col].isna().sum() / df.shape[0]) < 0.06]"
   ]
  },
  {
   "cell_type": "code",
   "execution_count": null,
   "id": "bf442389-b4be-4185-93e1-ed6ef9c6fe85",
   "metadata": {},
   "outputs": [],
   "source": [
    "# 1. Without dropping any rows or columns,\n",
    "# 2. With dropping all rows that have a least one missing value\n",
    "# 3. With using our columns.\n",
    "\n",
    "df.shape, df.dropna().shape, df[cols_to_keep].dropna().shape "
   ]
  },
  {
   "cell_type": "code",
   "execution_count": null,
   "id": "8aeb2159-1904-4017-a7c3-12ff7836dcfc",
   "metadata": {},
   "outputs": [],
   "source": [
    "new_df = df[cols_to_keep].dropna()"
   ]
  },
  {
   "cell_type": "code",
   "execution_count": null,
   "id": "42e940e0-cc7a-436d-91b2-4541a76e4971",
   "metadata": {},
   "outputs": [],
   "source": [
    "(new_df.isna().sum() > 0).sum()"
   ]
  }
 ],
 "metadata": {
  "kernelspec": {
   "display_name": "Python 3 (ipykernel)",
   "language": "python",
   "name": "python3"
  },
  "language_info": {
   "codemirror_mode": {
    "name": "ipython",
    "version": 3
   },
   "file_extension": ".py",
   "mimetype": "text/x-python",
   "name": "python",
   "nbconvert_exporter": "python",
   "pygments_lexer": "ipython3",
   "version": "3.11.0"
  }
 },
 "nbformat": 4,
 "nbformat_minor": 5
}
